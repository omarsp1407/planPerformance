{
 "cells": [
  {
   "cell_type": "markdown",
   "metadata": {
    "id": "3rYiDeEH0q0f"
   },
   "source": [
    "# ¿Cuál es la mejor tarifa?\n",
    "\n",
    "Trabajas como analista para el operador de telecomunicaciones Megaline. La empresa ofrece a sus clientes dos tarifas de prepago, Surf y Ultimate. El departamento comercial quiere saber cuál de las tarifas genera más ingresos para poder ajustar el presupuesto de publicidad.\n",
    "\n",
    "Vas a realizar un análisis preliminar de las tarifas basado en una selección de clientes relativamente pequeña. Tendrás los datos de 500 clientes de Megaline: quiénes son los clientes, de dónde son, qué tarifa usan, así como la cantidad de llamadas que hicieron y los mensajes de texto que enviaron en 2018. Tu trabajo es analizar el comportamiento de los clientes y determinar qué tarifa de prepago genera más ingresos."
   ]
  },
  {
   "cell_type": "markdown",
   "metadata": {
    "id": "MQi4IPy70q0y"
   },
   "source": [
    "## Inicialización"
   ]
  },
  {
   "cell_type": "code",
   "execution_count": 54,
   "metadata": {
    "id": "MtYIuBxu0q0z"
   },
   "outputs": [],
   "source": [
    "# Cargar todas las librerías\n",
    "import pandas as pd\n",
    "from scipy import stats as st\n",
    "from matplotlib import pyplot as plt\n",
    "import numpy as np\n",
    "import seaborn as sns\n",
    "import math"
   ]
  },
  {
   "cell_type": "markdown",
   "metadata": {
    "id": "4ysWWC5i0q00"
   },
   "source": [
    "## Cargar datos"
   ]
  },
  {
   "cell_type": "code",
   "execution_count": 55,
   "metadata": {
    "id": "CCqPW7rS0q01"
   },
   "outputs": [],
   "source": [
    "# Carga los archivos de datos en diferentes DataFrames"
   ]
  },
  {
   "cell_type": "markdown",
   "metadata": {
    "id": "69qqoJ3r0q01"
   },
   "source": [
    "## Preparar los datos"
   ]
  },
  {
   "cell_type": "markdown",
   "metadata": {
    "id": "ohBhimvH0q01"
   },
   "source": [
    "## Tarifas"
   ]
  },
  {
   "cell_type": "code",
   "execution_count": 98,
   "metadata": {},
   "outputs": [
    {
     "name": "stdout",
     "output_type": "stream",
     "text": [
      "<class 'pandas.core.frame.DataFrame'>\n",
      "RangeIndex: 2 entries, 0 to 1\n",
      "Data columns (total 8 columns):\n",
      " #   Column                 Non-Null Count  Dtype  \n",
      "---  ------                 --------------  -----  \n",
      " 0   messages_included      2 non-null      int64  \n",
      " 1   mb_per_month_included  2 non-null      int64  \n",
      " 2   minutes_included       2 non-null      int64  \n",
      " 3   usd_monthly_pay        2 non-null      int64  \n",
      " 4   usd_per_gb             2 non-null      int64  \n",
      " 5   usd_per_message        2 non-null      float64\n",
      " 6   usd_per_minute         2 non-null      float64\n",
      " 7   plan_name              2 non-null      object \n",
      "dtypes: float64(2), int64(5), object(1)\n",
      "memory usage: 260.0+ bytes\n"
     ]
    }
   ],
   "source": [
    "df_plans.info()"
   ]
  },
  {
   "cell_type": "code",
   "execution_count": 56,
   "metadata": {
    "id": "64xzjwL70q02"
   },
   "outputs": [
    {
     "data": {
      "text/html": [
       "<div>\n",
       "<style scoped>\n",
       "    .dataframe tbody tr th:only-of-type {\n",
       "        vertical-align: middle;\n",
       "    }\n",
       "\n",
       "    .dataframe tbody tr th {\n",
       "        vertical-align: top;\n",
       "    }\n",
       "\n",
       "    .dataframe thead th {\n",
       "        text-align: right;\n",
       "    }\n",
       "</style>\n",
       "<table border=\"1\" class=\"dataframe\">\n",
       "  <thead>\n",
       "    <tr style=\"text-align: right;\">\n",
       "      <th></th>\n",
       "      <th>messages_included</th>\n",
       "      <th>mb_per_month_included</th>\n",
       "      <th>minutes_included</th>\n",
       "      <th>usd_monthly_pay</th>\n",
       "      <th>usd_per_gb</th>\n",
       "      <th>usd_per_message</th>\n",
       "      <th>usd_per_minute</th>\n",
       "      <th>plan_name</th>\n",
       "    </tr>\n",
       "  </thead>\n",
       "  <tbody>\n",
       "    <tr>\n",
       "      <th>0</th>\n",
       "      <td>50</td>\n",
       "      <td>15360</td>\n",
       "      <td>500</td>\n",
       "      <td>20</td>\n",
       "      <td>10</td>\n",
       "      <td>0.03</td>\n",
       "      <td>0.03</td>\n",
       "      <td>surf</td>\n",
       "    </tr>\n",
       "    <tr>\n",
       "      <th>1</th>\n",
       "      <td>1000</td>\n",
       "      <td>30720</td>\n",
       "      <td>3000</td>\n",
       "      <td>70</td>\n",
       "      <td>7</td>\n",
       "      <td>0.01</td>\n",
       "      <td>0.01</td>\n",
       "      <td>ultimate</td>\n",
       "    </tr>\n",
       "  </tbody>\n",
       "</table>\n",
       "</div>"
      ],
      "text/plain": [
       "   messages_included  mb_per_month_included  minutes_included  \\\n",
       "0                 50                  15360               500   \n",
       "1               1000                  30720              3000   \n",
       "\n",
       "   usd_monthly_pay  usd_per_gb  usd_per_message  usd_per_minute plan_name  \n",
       "0               20          10             0.03            0.03      surf  \n",
       "1               70           7             0.01            0.01  ultimate  "
      ]
     },
     "execution_count": 56,
     "metadata": {},
     "output_type": "execute_result"
    }
   ],
   "source": [
    "# Imprime una muestra de los datos para las tarifas\n",
    "df_plans.head()"
   ]
  },
  {
   "cell_type": "markdown",
   "metadata": {},
   "source": [
    "## Usuarios"
   ]
  },
  {
   "cell_type": "code",
   "execution_count": 99,
   "metadata": {},
   "outputs": [
    {
     "name": "stdout",
     "output_type": "stream",
     "text": [
      "<class 'pandas.core.frame.DataFrame'>\n",
      "RangeIndex: 500 entries, 0 to 499\n",
      "Data columns (total 8 columns):\n",
      " #   Column      Non-Null Count  Dtype \n",
      "---  ------      --------------  ----- \n",
      " 0   user_id     500 non-null    int64 \n",
      " 1   first_name  500 non-null    object\n",
      " 2   last_name   500 non-null    object\n",
      " 3   age         500 non-null    int64 \n",
      " 4   city        500 non-null    object\n",
      " 5   reg_date    500 non-null    object\n",
      " 6   plan        500 non-null    object\n",
      " 7   churn_date  34 non-null     object\n",
      "dtypes: int64(2), object(6)\n",
      "memory usage: 31.4+ KB\n"
     ]
    },
    {
     "data": {
      "text/plain": [
       "0"
      ]
     },
     "execution_count": 99,
     "metadata": {},
     "output_type": "execute_result"
    }
   ],
   "source": [
    "# Imprime la información general/resumida sobre el DataFrame de los usuarios\n",
    "df_users.info()\n",
    "df_users.duplicated().sum()"
   ]
  },
  {
   "cell_type": "code",
   "execution_count": 100,
   "metadata": {},
   "outputs": [
    {
     "data": {
      "text/html": [
       "<div>\n",
       "<style scoped>\n",
       "    .dataframe tbody tr th:only-of-type {\n",
       "        vertical-align: middle;\n",
       "    }\n",
       "\n",
       "    .dataframe tbody tr th {\n",
       "        vertical-align: top;\n",
       "    }\n",
       "\n",
       "    .dataframe thead th {\n",
       "        text-align: right;\n",
       "    }\n",
       "</style>\n",
       "<table border=\"1\" class=\"dataframe\">\n",
       "  <thead>\n",
       "    <tr style=\"text-align: right;\">\n",
       "      <th></th>\n",
       "      <th>user_id</th>\n",
       "      <th>first_name</th>\n",
       "      <th>last_name</th>\n",
       "      <th>age</th>\n",
       "      <th>city</th>\n",
       "      <th>reg_date</th>\n",
       "      <th>plan</th>\n",
       "      <th>churn_date</th>\n",
       "    </tr>\n",
       "  </thead>\n",
       "  <tbody>\n",
       "    <tr>\n",
       "      <th>0</th>\n",
       "      <td>1000</td>\n",
       "      <td>Anamaria</td>\n",
       "      <td>Bauer</td>\n",
       "      <td>45</td>\n",
       "      <td>Atlanta-Sandy Springs-Roswell, GA MSA</td>\n",
       "      <td>2018-12-24</td>\n",
       "      <td>ultimate</td>\n",
       "      <td>NaN</td>\n",
       "    </tr>\n",
       "    <tr>\n",
       "      <th>1</th>\n",
       "      <td>1001</td>\n",
       "      <td>Mickey</td>\n",
       "      <td>Wilkerson</td>\n",
       "      <td>28</td>\n",
       "      <td>Seattle-Tacoma-Bellevue, WA MSA</td>\n",
       "      <td>2018-08-13</td>\n",
       "      <td>surf</td>\n",
       "      <td>NaN</td>\n",
       "    </tr>\n",
       "    <tr>\n",
       "      <th>2</th>\n",
       "      <td>1002</td>\n",
       "      <td>Carlee</td>\n",
       "      <td>Hoffman</td>\n",
       "      <td>36</td>\n",
       "      <td>Las Vegas-Henderson-Paradise, NV MSA</td>\n",
       "      <td>2018-10-21</td>\n",
       "      <td>surf</td>\n",
       "      <td>NaN</td>\n",
       "    </tr>\n",
       "    <tr>\n",
       "      <th>3</th>\n",
       "      <td>1003</td>\n",
       "      <td>Reynaldo</td>\n",
       "      <td>Jenkins</td>\n",
       "      <td>52</td>\n",
       "      <td>Tulsa, OK MSA</td>\n",
       "      <td>2018-01-28</td>\n",
       "      <td>surf</td>\n",
       "      <td>NaN</td>\n",
       "    </tr>\n",
       "    <tr>\n",
       "      <th>4</th>\n",
       "      <td>1004</td>\n",
       "      <td>Leonila</td>\n",
       "      <td>Thompson</td>\n",
       "      <td>40</td>\n",
       "      <td>Seattle-Tacoma-Bellevue, WA MSA</td>\n",
       "      <td>2018-05-23</td>\n",
       "      <td>surf</td>\n",
       "      <td>NaN</td>\n",
       "    </tr>\n",
       "  </tbody>\n",
       "</table>\n",
       "</div>"
      ],
      "text/plain": [
       "   user_id first_name  last_name  age                                   city  \\\n",
       "0     1000   Anamaria      Bauer   45  Atlanta-Sandy Springs-Roswell, GA MSA   \n",
       "1     1001     Mickey  Wilkerson   28        Seattle-Tacoma-Bellevue, WA MSA   \n",
       "2     1002     Carlee    Hoffman   36   Las Vegas-Henderson-Paradise, NV MSA   \n",
       "3     1003   Reynaldo    Jenkins   52                          Tulsa, OK MSA   \n",
       "4     1004    Leonila   Thompson   40        Seattle-Tacoma-Bellevue, WA MSA   \n",
       "\n",
       "     reg_date      plan churn_date  \n",
       "0  2018-12-24  ultimate        NaN  \n",
       "1  2018-08-13      surf        NaN  \n",
       "2  2018-10-21      surf        NaN  \n",
       "3  2018-01-28      surf        NaN  \n",
       "4  2018-05-23      surf        NaN  "
      ]
     },
     "execution_count": 100,
     "metadata": {},
     "output_type": "execute_result"
    }
   ],
   "source": [
    "# Imprime una muestra de los datos para los usuarios \n",
    "df_users.head()"
   ]
  },
  {
   "cell_type": "markdown",
   "metadata": {},
   "source": [
    "## Llamadas"
   ]
  },
  {
   "cell_type": "code",
   "execution_count": 101,
   "metadata": {},
   "outputs": [
    {
     "name": "stdout",
     "output_type": "stream",
     "text": [
      "<class 'pandas.core.frame.DataFrame'>\n",
      "RangeIndex: 137735 entries, 0 to 137734\n",
      "Data columns (total 5 columns):\n",
      " #   Column     Non-Null Count   Dtype         \n",
      "---  ------     --------------   -----         \n",
      " 0   id         137735 non-null  object        \n",
      " 1   user_id    137735 non-null  int64         \n",
      " 2   call_date  137735 non-null  datetime64[ns]\n",
      " 3   duration   137735 non-null  float64       \n",
      " 4   month      137735 non-null  int32         \n",
      "dtypes: datetime64[ns](1), float64(1), int32(1), int64(1), object(1)\n",
      "memory usage: 4.7+ MB\n"
     ]
    },
    {
     "data": {
      "text/plain": [
       "0"
      ]
     },
     "execution_count": 101,
     "metadata": {},
     "output_type": "execute_result"
    }
   ],
   "source": [
    "# Imprime la información general/resumida sobre el DataFrame de las llamadas\n",
    "df_calls.info()\n",
    "df_calls.duplicated().sum()"
   ]
  },
  {
   "cell_type": "code",
   "execution_count": 60,
   "metadata": {},
   "outputs": [
    {
     "data": {
      "text/html": [
       "<div>\n",
       "<style scoped>\n",
       "    .dataframe tbody tr th:only-of-type {\n",
       "        vertical-align: middle;\n",
       "    }\n",
       "\n",
       "    .dataframe tbody tr th {\n",
       "        vertical-align: top;\n",
       "    }\n",
       "\n",
       "    .dataframe thead th {\n",
       "        text-align: right;\n",
       "    }\n",
       "</style>\n",
       "<table border=\"1\" class=\"dataframe\">\n",
       "  <thead>\n",
       "    <tr style=\"text-align: right;\">\n",
       "      <th></th>\n",
       "      <th>id</th>\n",
       "      <th>user_id</th>\n",
       "      <th>call_date</th>\n",
       "      <th>duration</th>\n",
       "    </tr>\n",
       "  </thead>\n",
       "  <tbody>\n",
       "    <tr>\n",
       "      <th>0</th>\n",
       "      <td>1000_93</td>\n",
       "      <td>1000</td>\n",
       "      <td>2018-12-27</td>\n",
       "      <td>8.52</td>\n",
       "    </tr>\n",
       "    <tr>\n",
       "      <th>1</th>\n",
       "      <td>1000_145</td>\n",
       "      <td>1000</td>\n",
       "      <td>2018-12-27</td>\n",
       "      <td>13.66</td>\n",
       "    </tr>\n",
       "    <tr>\n",
       "      <th>2</th>\n",
       "      <td>1000_247</td>\n",
       "      <td>1000</td>\n",
       "      <td>2018-12-27</td>\n",
       "      <td>14.48</td>\n",
       "    </tr>\n",
       "    <tr>\n",
       "      <th>3</th>\n",
       "      <td>1000_309</td>\n",
       "      <td>1000</td>\n",
       "      <td>2018-12-28</td>\n",
       "      <td>5.76</td>\n",
       "    </tr>\n",
       "    <tr>\n",
       "      <th>4</th>\n",
       "      <td>1000_380</td>\n",
       "      <td>1000</td>\n",
       "      <td>2018-12-30</td>\n",
       "      <td>4.22</td>\n",
       "    </tr>\n",
       "  </tbody>\n",
       "</table>\n",
       "</div>"
      ],
      "text/plain": [
       "         id  user_id   call_date  duration\n",
       "0   1000_93     1000  2018-12-27      8.52\n",
       "1  1000_145     1000  2018-12-27     13.66\n",
       "2  1000_247     1000  2018-12-27     14.48\n",
       "3  1000_309     1000  2018-12-28      5.76\n",
       "4  1000_380     1000  2018-12-30      4.22"
      ]
     },
     "execution_count": 60,
     "metadata": {},
     "output_type": "execute_result"
    }
   ],
   "source": [
    "# Imprime una muestra de los datos para las llamadas\n",
    "df_calls.head()"
   ]
  },
  {
   "cell_type": "markdown",
   "metadata": {},
   "source": [
    "## Mensajes"
   ]
  },
  {
   "cell_type": "code",
   "execution_count": 103,
   "metadata": {},
   "outputs": [
    {
     "name": "stdout",
     "output_type": "stream",
     "text": [
      "<class 'pandas.core.frame.DataFrame'>\n",
      "RangeIndex: 76051 entries, 0 to 76050\n",
      "Data columns (total 4 columns):\n",
      " #   Column        Non-Null Count  Dtype         \n",
      "---  ------        --------------  -----         \n",
      " 0   id            76051 non-null  object        \n",
      " 1   user_id       76051 non-null  int64         \n",
      " 2   message_date  76051 non-null  datetime64[ns]\n",
      " 3   month         76051 non-null  int32         \n",
      "dtypes: datetime64[ns](1), int32(1), int64(1), object(1)\n",
      "memory usage: 2.0+ MB\n"
     ]
    },
    {
     "data": {
      "text/plain": [
       "0"
      ]
     },
     "execution_count": 103,
     "metadata": {},
     "output_type": "execute_result"
    }
   ],
   "source": [
    "# Imprime la información general/resumida sobre el DataFrame de los mesanjes\n",
    "df_messages.info()\n",
    "df_messages.duplicated().sum()"
   ]
  },
  {
   "cell_type": "code",
   "execution_count": 62,
   "metadata": {},
   "outputs": [
    {
     "data": {
      "text/html": [
       "<div>\n",
       "<style scoped>\n",
       "    .dataframe tbody tr th:only-of-type {\n",
       "        vertical-align: middle;\n",
       "    }\n",
       "\n",
       "    .dataframe tbody tr th {\n",
       "        vertical-align: top;\n",
       "    }\n",
       "\n",
       "    .dataframe thead th {\n",
       "        text-align: right;\n",
       "    }\n",
       "</style>\n",
       "<table border=\"1\" class=\"dataframe\">\n",
       "  <thead>\n",
       "    <tr style=\"text-align: right;\">\n",
       "      <th></th>\n",
       "      <th>id</th>\n",
       "      <th>user_id</th>\n",
       "      <th>message_date</th>\n",
       "    </tr>\n",
       "  </thead>\n",
       "  <tbody>\n",
       "    <tr>\n",
       "      <th>0</th>\n",
       "      <td>1000_125</td>\n",
       "      <td>1000</td>\n",
       "      <td>2018-12-27</td>\n",
       "    </tr>\n",
       "    <tr>\n",
       "      <th>1</th>\n",
       "      <td>1000_160</td>\n",
       "      <td>1000</td>\n",
       "      <td>2018-12-31</td>\n",
       "    </tr>\n",
       "    <tr>\n",
       "      <th>2</th>\n",
       "      <td>1000_223</td>\n",
       "      <td>1000</td>\n",
       "      <td>2018-12-31</td>\n",
       "    </tr>\n",
       "    <tr>\n",
       "      <th>3</th>\n",
       "      <td>1000_251</td>\n",
       "      <td>1000</td>\n",
       "      <td>2018-12-27</td>\n",
       "    </tr>\n",
       "    <tr>\n",
       "      <th>4</th>\n",
       "      <td>1000_255</td>\n",
       "      <td>1000</td>\n",
       "      <td>2018-12-26</td>\n",
       "    </tr>\n",
       "  </tbody>\n",
       "</table>\n",
       "</div>"
      ],
      "text/plain": [
       "         id  user_id message_date\n",
       "0  1000_125     1000   2018-12-27\n",
       "1  1000_160     1000   2018-12-31\n",
       "2  1000_223     1000   2018-12-31\n",
       "3  1000_251     1000   2018-12-27\n",
       "4  1000_255     1000   2018-12-26"
      ]
     },
     "execution_count": 62,
     "metadata": {},
     "output_type": "execute_result"
    }
   ],
   "source": [
    "# Imprime una muestra de los datos para los mensajes\n",
    "df_messages.head()"
   ]
  },
  {
   "cell_type": "markdown",
   "metadata": {},
   "source": [
    "## Internet"
   ]
  },
  {
   "cell_type": "code",
   "execution_count": 104,
   "metadata": {},
   "outputs": [
    {
     "name": "stdout",
     "output_type": "stream",
     "text": [
      "<class 'pandas.core.frame.DataFrame'>\n",
      "RangeIndex: 104825 entries, 0 to 104824\n",
      "Data columns (total 5 columns):\n",
      " #   Column        Non-Null Count   Dtype         \n",
      "---  ------        --------------   -----         \n",
      " 0   id            104825 non-null  object        \n",
      " 1   user_id       104825 non-null  int64         \n",
      " 2   session_date  104825 non-null  datetime64[ns]\n",
      " 3   mb_used       104825 non-null  float64       \n",
      " 4   month         104825 non-null  int32         \n",
      "dtypes: datetime64[ns](1), float64(1), int32(1), int64(1), object(1)\n",
      "memory usage: 3.6+ MB\n"
     ]
    },
    {
     "data": {
      "text/plain": [
       "0"
      ]
     },
     "execution_count": 104,
     "metadata": {},
     "output_type": "execute_result"
    }
   ],
   "source": [
    "# Imprime la información general/resumida sobre el DataFrame del internet\n",
    "df_internet.info()\n",
    "df_internet.duplicated().sum()"
   ]
  },
  {
   "cell_type": "code",
   "execution_count": 64,
   "metadata": {},
   "outputs": [
    {
     "data": {
      "text/html": [
       "<div>\n",
       "<style scoped>\n",
       "    .dataframe tbody tr th:only-of-type {\n",
       "        vertical-align: middle;\n",
       "    }\n",
       "\n",
       "    .dataframe tbody tr th {\n",
       "        vertical-align: top;\n",
       "    }\n",
       "\n",
       "    .dataframe thead th {\n",
       "        text-align: right;\n",
       "    }\n",
       "</style>\n",
       "<table border=\"1\" class=\"dataframe\">\n",
       "  <thead>\n",
       "    <tr style=\"text-align: right;\">\n",
       "      <th></th>\n",
       "      <th>id</th>\n",
       "      <th>user_id</th>\n",
       "      <th>session_date</th>\n",
       "      <th>mb_used</th>\n",
       "    </tr>\n",
       "  </thead>\n",
       "  <tbody>\n",
       "    <tr>\n",
       "      <th>0</th>\n",
       "      <td>1000_13</td>\n",
       "      <td>1000</td>\n",
       "      <td>2018-12-29</td>\n",
       "      <td>89.86</td>\n",
       "    </tr>\n",
       "    <tr>\n",
       "      <th>1</th>\n",
       "      <td>1000_204</td>\n",
       "      <td>1000</td>\n",
       "      <td>2018-12-31</td>\n",
       "      <td>0.00</td>\n",
       "    </tr>\n",
       "    <tr>\n",
       "      <th>2</th>\n",
       "      <td>1000_379</td>\n",
       "      <td>1000</td>\n",
       "      <td>2018-12-28</td>\n",
       "      <td>660.40</td>\n",
       "    </tr>\n",
       "    <tr>\n",
       "      <th>3</th>\n",
       "      <td>1000_413</td>\n",
       "      <td>1000</td>\n",
       "      <td>2018-12-26</td>\n",
       "      <td>270.99</td>\n",
       "    </tr>\n",
       "    <tr>\n",
       "      <th>4</th>\n",
       "      <td>1000_442</td>\n",
       "      <td>1000</td>\n",
       "      <td>2018-12-27</td>\n",
       "      <td>880.22</td>\n",
       "    </tr>\n",
       "  </tbody>\n",
       "</table>\n",
       "</div>"
      ],
      "text/plain": [
       "         id  user_id session_date  mb_used\n",
       "0   1000_13     1000   2018-12-29    89.86\n",
       "1  1000_204     1000   2018-12-31     0.00\n",
       "2  1000_379     1000   2018-12-28   660.40\n",
       "3  1000_413     1000   2018-12-26   270.99\n",
       "4  1000_442     1000   2018-12-27   880.22"
      ]
     },
     "execution_count": 64,
     "metadata": {},
     "output_type": "execute_result"
    }
   ],
   "source": [
    "# Imprime una muestra de los datos para el internet\n",
    "df_internet.head()"
   ]
  },
  {
   "cell_type": "markdown",
   "metadata": {
    "id": "mEc_3_hs0q02"
   },
   "source": [
    "En general, la composición de los datos es buena. Al analizar la información de los datasets, observamos que todos, excepto la columna 'churn_date' en el conjunto de datos de usuarios, están completos sin valores ausentes. En cuanto a la columna 'churn_date', la ausencia de datos parece tener una razón válida ya que representa usuarios con planes activos por lo cual no sera necesario hacer un preprocesamiento ya que no nos afecta en tareas posterores. Además, ninguno de nuestros datasets presenta valores duplicados, por lo que no es necesario realizar ningún preprocesamiento en esta área de igual manera. Por último, los datasets de llamadas, mensajes e internet contienen fechas representadas como cadenas de texto, las cuales serán convertidas al tipo de dato datetime para facilitar su manipulación. Este será el único procesamiento necesario en los datos."
   ]
  },
  {
   "cell_type": "markdown",
   "metadata": {
    "id": "R3C05i1l0q03"
   },
   "source": [
    "## Corregir datos"
   ]
  },
  {
   "cell_type": "code",
   "execution_count": 66,
   "metadata": {},
   "outputs": [],
   "source": [
    "# Cambiamos las columnas correspodiente a fechas a tipo de dato datetime\n",
    "df_calls['call_date'] = pd.to_datetime(df_calls['call_date'], format='%Y-%m-%d')\n",
    "df_messages['message_date'] = pd.to_datetime(df_messages['message_date'], format='%Y-%m-%d')\n",
    "df_internet['session_date'] = pd.to_datetime(df_internet['session_date'], format='%Y-%m-%d')\n"
   ]
  },
  {
   "cell_type": "markdown",
   "metadata": {
    "id": "3UA2cqIW0q1E"
   },
   "source": [
    "## Estudiar las condiciones de las tarifas"
   ]
  },
  {
   "cell_type": "code",
   "execution_count": 67,
   "metadata": {
    "id": "i409op8p0q1F"
   },
   "outputs": [
    {
     "data": {
      "text/html": [
       "<div>\n",
       "<style scoped>\n",
       "    .dataframe tbody tr th:only-of-type {\n",
       "        vertical-align: middle;\n",
       "    }\n",
       "\n",
       "    .dataframe tbody tr th {\n",
       "        vertical-align: top;\n",
       "    }\n",
       "\n",
       "    .dataframe thead th {\n",
       "        text-align: right;\n",
       "    }\n",
       "</style>\n",
       "<table border=\"1\" class=\"dataframe\">\n",
       "  <thead>\n",
       "    <tr style=\"text-align: right;\">\n",
       "      <th></th>\n",
       "      <th>messages_included</th>\n",
       "      <th>mb_per_month_included</th>\n",
       "      <th>minutes_included</th>\n",
       "      <th>usd_monthly_pay</th>\n",
       "      <th>usd_per_gb</th>\n",
       "      <th>usd_per_message</th>\n",
       "      <th>usd_per_minute</th>\n",
       "      <th>plan_name</th>\n",
       "    </tr>\n",
       "  </thead>\n",
       "  <tbody>\n",
       "    <tr>\n",
       "      <th>0</th>\n",
       "      <td>50</td>\n",
       "      <td>15360</td>\n",
       "      <td>500</td>\n",
       "      <td>20</td>\n",
       "      <td>10</td>\n",
       "      <td>0.03</td>\n",
       "      <td>0.03</td>\n",
       "      <td>surf</td>\n",
       "    </tr>\n",
       "    <tr>\n",
       "      <th>1</th>\n",
       "      <td>1000</td>\n",
       "      <td>30720</td>\n",
       "      <td>3000</td>\n",
       "      <td>70</td>\n",
       "      <td>7</td>\n",
       "      <td>0.01</td>\n",
       "      <td>0.01</td>\n",
       "      <td>ultimate</td>\n",
       "    </tr>\n",
       "  </tbody>\n",
       "</table>\n",
       "</div>"
      ],
      "text/plain": [
       "   messages_included  mb_per_month_included  minutes_included  \\\n",
       "0                 50                  15360               500   \n",
       "1               1000                  30720              3000   \n",
       "\n",
       "   usd_monthly_pay  usd_per_gb  usd_per_message  usd_per_minute plan_name  \n",
       "0               20          10             0.03            0.03      surf  \n",
       "1               70           7             0.01            0.01  ultimate  "
      ]
     },
     "execution_count": 67,
     "metadata": {},
     "output_type": "execute_result"
    }
   ],
   "source": [
    "# Imprime las condiciones de la tarifa y asegúrate de que te quedan claras\n",
    "df_plans.head()"
   ]
  },
  {
   "cell_type": "markdown",
   "metadata": {
    "id": "hMR1tP5d0q1F"
   },
   "source": [
    "## Agregar datos por usuario"
   ]
  },
  {
   "cell_type": "code",
   "execution_count": 68,
   "metadata": {
    "id": "A332cedB0q1G"
   },
   "outputs": [
    {
     "name": "stdout",
     "output_type": "stream",
     "text": [
      "      user_id  month  calls_count\n",
      "0        1000     12           16\n",
      "1        1001      8           27\n",
      "2        1001      9           49\n",
      "3        1001     10           65\n",
      "4        1001     11           64\n",
      "...       ...    ...          ...\n",
      "2253     1498     12           39\n",
      "2254     1499      9           41\n",
      "2255     1499     10           53\n",
      "2256     1499     11           45\n",
      "2257     1499     12           65\n",
      "\n",
      "[2258 rows x 3 columns]\n"
     ]
    }
   ],
   "source": [
    "# Calcula el número de llamadas hechas por cada usuario al mes. Guarda el resultado.\n",
    "# Extraemos unicamente el mes de la fecha y lo guardamos en una nueva columna\n",
    "df_calls['month'] = df_calls['call_date'].dt.month\n",
    "# Agrupamos por mes y por numero de usuario y contamos el nuemero de llamadas por mes por usuario\n",
    "calls_per_user_per_month = df_calls.groupby(['user_id', 'month']).agg(calls_count=('id', 'count')).reset_index()\n",
    "print(calls_per_user_per_month)"
   ]
  },
  {
   "cell_type": "code",
   "execution_count": 69,
   "metadata": {
    "id": "aw2cmuql0q1G"
   },
   "outputs": [
    {
     "name": "stdout",
     "output_type": "stream",
     "text": [
      "      user_id  month  total_minutes\n",
      "0        1000     12         116.83\n",
      "1        1001      8         171.14\n",
      "2        1001      9         297.69\n",
      "3        1001     10         374.11\n",
      "4        1001     11         404.59\n",
      "...       ...    ...            ...\n",
      "2253     1498     12         324.77\n",
      "2254     1499      9         330.37\n",
      "2255     1499     10         363.28\n",
      "2256     1499     11         288.56\n",
      "2257     1499     12         468.10\n",
      "\n",
      "[2258 rows x 3 columns]\n"
     ]
    }
   ],
   "source": [
    "# Calcula la cantidad de minutos usados por cada usuario al mes. Guarda el resultado.\n",
    "# Agrupamos por mes y por numero de usuario y sumamos la duracion de llamadas por mes por usuario\n",
    "mins_per_user_per_month = df_calls.groupby(['user_id', 'month']).agg(total_minutes=('duration', 'sum')).reset_index()\n",
    "print(mins_per_user_per_month)"
   ]
  },
  {
   "cell_type": "code",
   "execution_count": 105,
   "metadata": {
    "id": "CcQvNHn60q1G"
   },
   "outputs": [
    {
     "name": "stdout",
     "output_type": "stream",
     "text": [
      "      user_id  month  messages_count\n",
      "0        1000     12              11\n",
      "1        1001      8              30\n",
      "2        1001      9              44\n",
      "3        1001     10              53\n",
      "4        1001     11              36\n",
      "...       ...    ...             ...\n",
      "1801     1496      9              21\n",
      "1802     1496     10              18\n",
      "1803     1496     11              13\n",
      "1804     1496     12              11\n",
      "1805     1497     12              50\n",
      "\n",
      "[1806 rows x 3 columns]\n"
     ]
    }
   ],
   "source": [
    "# Calcula el número de mensajes enviados por cada usuario al mes. Guarda el resultado.\n",
    "# Extraemos unicamente el mes de la fecha y lo guardamos en una nueva columna\n",
    "df_messages['month'] = df_messages['message_date'].dt.month\n",
    "# Agrupamos por mes y por numero de usuario y contamos el nuemero de mensajes por mes por usuario\n",
    "messages_per_user_per_month = df_messages.groupby(['user_id', 'month']).agg(messages_count=('id', 'count')).reset_index()\n",
    "print(messages_per_user_per_month)"
   ]
  },
  {
   "cell_type": "code",
   "execution_count": 71,
   "metadata": {
    "id": "H1AqN2eG0q1H"
   },
   "outputs": [
    {
     "name": "stdout",
     "output_type": "stream",
     "text": [
      "      user_id  month  total_mb_used\n",
      "0        1000     12        1901.47\n",
      "1        1001      8        6919.15\n",
      "2        1001      9       13314.82\n",
      "3        1001     10       22330.49\n",
      "4        1001     11       18504.30\n",
      "...       ...    ...            ...\n",
      "2272     1498     12       23137.69\n",
      "2273     1499      9       12984.76\n",
      "2274     1499     10       19492.43\n",
      "2275     1499     11       16813.83\n",
      "2276     1499     12       22059.21\n",
      "\n",
      "[2277 rows x 3 columns]\n"
     ]
    }
   ],
   "source": [
    "# Calcula el volumen del tráfico de Internet usado por cada usuario al mes. Guarda el resultado.\n",
    "# Extraemos unicamente el mes de la fecha y lo guardamos en una nueva columna\n",
    "df_internet['month'] = df_internet['session_date'].dt.month\n",
    "# Agrupamos por mes y por numero de usuario y sumamos el traficos de datos por mes por usuario\n",
    "internet_per_user_per_month = df_internet.groupby(['user_id', 'month']).agg(total_mb_used=('mb_used', 'sum')).reset_index()\n",
    "print(internet_per_user_per_month)"
   ]
  },
  {
   "cell_type": "markdown",
   "metadata": {
    "id": "VDfYXnj80q1H"
   },
   "source": [
    "[Junta los datos agregados en un DataFrame para que haya un registro que represente lo que consumió un usuario único en un mes determinado.]"
   ]
  },
  {
   "cell_type": "code",
   "execution_count": 72,
   "metadata": {
    "id": "FW99ykyf0q1H"
   },
   "outputs": [
    {
     "data": {
      "text/html": [
       "<div>\n",
       "<style scoped>\n",
       "    .dataframe tbody tr th:only-of-type {\n",
       "        vertical-align: middle;\n",
       "    }\n",
       "\n",
       "    .dataframe tbody tr th {\n",
       "        vertical-align: top;\n",
       "    }\n",
       "\n",
       "    .dataframe thead th {\n",
       "        text-align: right;\n",
       "    }\n",
       "</style>\n",
       "<table border=\"1\" class=\"dataframe\">\n",
       "  <thead>\n",
       "    <tr style=\"text-align: right;\">\n",
       "      <th></th>\n",
       "      <th>user_id</th>\n",
       "      <th>month</th>\n",
       "      <th>calls_count</th>\n",
       "      <th>total_minutes</th>\n",
       "      <th>messages_count</th>\n",
       "      <th>total_mb_used</th>\n",
       "    </tr>\n",
       "  </thead>\n",
       "  <tbody>\n",
       "    <tr>\n",
       "      <th>0</th>\n",
       "      <td>1000</td>\n",
       "      <td>12</td>\n",
       "      <td>16.0</td>\n",
       "      <td>116.83</td>\n",
       "      <td>11.0</td>\n",
       "      <td>1901.47</td>\n",
       "    </tr>\n",
       "    <tr>\n",
       "      <th>1</th>\n",
       "      <td>1001</td>\n",
       "      <td>8</td>\n",
       "      <td>27.0</td>\n",
       "      <td>171.14</td>\n",
       "      <td>30.0</td>\n",
       "      <td>6919.15</td>\n",
       "    </tr>\n",
       "    <tr>\n",
       "      <th>2</th>\n",
       "      <td>1001</td>\n",
       "      <td>9</td>\n",
       "      <td>49.0</td>\n",
       "      <td>297.69</td>\n",
       "      <td>44.0</td>\n",
       "      <td>13314.82</td>\n",
       "    </tr>\n",
       "    <tr>\n",
       "      <th>3</th>\n",
       "      <td>1001</td>\n",
       "      <td>10</td>\n",
       "      <td>65.0</td>\n",
       "      <td>374.11</td>\n",
       "      <td>53.0</td>\n",
       "      <td>22330.49</td>\n",
       "    </tr>\n",
       "    <tr>\n",
       "      <th>4</th>\n",
       "      <td>1001</td>\n",
       "      <td>11</td>\n",
       "      <td>64.0</td>\n",
       "      <td>404.59</td>\n",
       "      <td>36.0</td>\n",
       "      <td>18504.30</td>\n",
       "    </tr>\n",
       "    <tr>\n",
       "      <th>5</th>\n",
       "      <td>1001</td>\n",
       "      <td>12</td>\n",
       "      <td>56.0</td>\n",
       "      <td>392.93</td>\n",
       "      <td>44.0</td>\n",
       "      <td>19369.18</td>\n",
       "    </tr>\n",
       "    <tr>\n",
       "      <th>6</th>\n",
       "      <td>1002</td>\n",
       "      <td>10</td>\n",
       "      <td>11.0</td>\n",
       "      <td>54.13</td>\n",
       "      <td>15.0</td>\n",
       "      <td>6552.01</td>\n",
       "    </tr>\n",
       "    <tr>\n",
       "      <th>7</th>\n",
       "      <td>1002</td>\n",
       "      <td>11</td>\n",
       "      <td>55.0</td>\n",
       "      <td>359.76</td>\n",
       "      <td>32.0</td>\n",
       "      <td>19345.08</td>\n",
       "    </tr>\n",
       "    <tr>\n",
       "      <th>8</th>\n",
       "      <td>1002</td>\n",
       "      <td>12</td>\n",
       "      <td>47.0</td>\n",
       "      <td>363.24</td>\n",
       "      <td>41.0</td>\n",
       "      <td>14396.24</td>\n",
       "    </tr>\n",
       "    <tr>\n",
       "      <th>9</th>\n",
       "      <td>1003</td>\n",
       "      <td>12</td>\n",
       "      <td>149.0</td>\n",
       "      <td>1041.00</td>\n",
       "      <td>50.0</td>\n",
       "      <td>27044.14</td>\n",
       "    </tr>\n",
       "    <tr>\n",
       "      <th>10</th>\n",
       "      <td>1004</td>\n",
       "      <td>5</td>\n",
       "      <td>21.0</td>\n",
       "      <td>181.58</td>\n",
       "      <td>7.0</td>\n",
       "      <td>6547.21</td>\n",
       "    </tr>\n",
       "    <tr>\n",
       "      <th>11</th>\n",
       "      <td>1004</td>\n",
       "      <td>6</td>\n",
       "      <td>44.0</td>\n",
       "      <td>261.32</td>\n",
       "      <td>18.0</td>\n",
       "      <td>20672.82</td>\n",
       "    </tr>\n",
       "    <tr>\n",
       "      <th>12</th>\n",
       "      <td>1004</td>\n",
       "      <td>7</td>\n",
       "      <td>49.0</td>\n",
       "      <td>358.45</td>\n",
       "      <td>26.0</td>\n",
       "      <td>24516.62</td>\n",
       "    </tr>\n",
       "    <tr>\n",
       "      <th>13</th>\n",
       "      <td>1004</td>\n",
       "      <td>8</td>\n",
       "      <td>49.0</td>\n",
       "      <td>334.86</td>\n",
       "      <td>25.0</td>\n",
       "      <td>27981.74</td>\n",
       "    </tr>\n",
       "    <tr>\n",
       "      <th>14</th>\n",
       "      <td>1004</td>\n",
       "      <td>9</td>\n",
       "      <td>42.0</td>\n",
       "      <td>284.60</td>\n",
       "      <td>21.0</td>\n",
       "      <td>18852.72</td>\n",
       "    </tr>\n",
       "  </tbody>\n",
       "</table>\n",
       "</div>"
      ],
      "text/plain": [
       "    user_id  month  calls_count  total_minutes  messages_count  total_mb_used\n",
       "0      1000     12         16.0         116.83            11.0        1901.47\n",
       "1      1001      8         27.0         171.14            30.0        6919.15\n",
       "2      1001      9         49.0         297.69            44.0       13314.82\n",
       "3      1001     10         65.0         374.11            53.0       22330.49\n",
       "4      1001     11         64.0         404.59            36.0       18504.30\n",
       "5      1001     12         56.0         392.93            44.0       19369.18\n",
       "6      1002     10         11.0          54.13            15.0        6552.01\n",
       "7      1002     11         55.0         359.76            32.0       19345.08\n",
       "8      1002     12         47.0         363.24            41.0       14396.24\n",
       "9      1003     12        149.0        1041.00            50.0       27044.14\n",
       "10     1004      5         21.0         181.58             7.0        6547.21\n",
       "11     1004      6         44.0         261.32            18.0       20672.82\n",
       "12     1004      7         49.0         358.45            26.0       24516.62\n",
       "13     1004      8         49.0         334.86            25.0       27981.74\n",
       "14     1004      9         42.0         284.60            21.0       18852.72"
      ]
     },
     "execution_count": 72,
     "metadata": {},
     "output_type": "execute_result"
    }
   ],
   "source": [
    "# Fusiona los datos de llamadas, minutos, mensajes e Internet con base en user_id y month\n",
    "merged_data = calls_per_user_per_month.merge(mins_per_user_per_month, on=['user_id', 'month'], how='outer')\n",
    "merged_data = merged_data.merge(messages_per_user_per_month, on=['user_id', 'month'], how='outer')\n",
    "merged_data = merged_data.merge(internet_per_user_per_month, on=['user_id', 'month'], how='outer')\n",
    "\n",
    "merged_data.head(15)"
   ]
  },
  {
   "cell_type": "code",
   "execution_count": 73,
   "metadata": {
    "id": "0dNOXHag0q1H"
   },
   "outputs": [
    {
     "data": {
      "text/html": [
       "<div>\n",
       "<style scoped>\n",
       "    .dataframe tbody tr th:only-of-type {\n",
       "        vertical-align: middle;\n",
       "    }\n",
       "\n",
       "    .dataframe tbody tr th {\n",
       "        vertical-align: top;\n",
       "    }\n",
       "\n",
       "    .dataframe thead th {\n",
       "        text-align: right;\n",
       "    }\n",
       "</style>\n",
       "<table border=\"1\" class=\"dataframe\">\n",
       "  <thead>\n",
       "    <tr style=\"text-align: right;\">\n",
       "      <th></th>\n",
       "      <th>user_id</th>\n",
       "      <th>month</th>\n",
       "      <th>calls_count</th>\n",
       "      <th>total_minutes</th>\n",
       "      <th>messages_count</th>\n",
       "      <th>total_mb_used</th>\n",
       "      <th>city</th>\n",
       "      <th>plan</th>\n",
       "    </tr>\n",
       "  </thead>\n",
       "  <tbody>\n",
       "    <tr>\n",
       "      <th>0</th>\n",
       "      <td>1000</td>\n",
       "      <td>12</td>\n",
       "      <td>16.0</td>\n",
       "      <td>116.83</td>\n",
       "      <td>11.0</td>\n",
       "      <td>1901.47</td>\n",
       "      <td>Atlanta-Sandy Springs-Roswell, GA MSA</td>\n",
       "      <td>ultimate</td>\n",
       "    </tr>\n",
       "    <tr>\n",
       "      <th>1</th>\n",
       "      <td>1001</td>\n",
       "      <td>8</td>\n",
       "      <td>27.0</td>\n",
       "      <td>171.14</td>\n",
       "      <td>30.0</td>\n",
       "      <td>6919.15</td>\n",
       "      <td>Seattle-Tacoma-Bellevue, WA MSA</td>\n",
       "      <td>surf</td>\n",
       "    </tr>\n",
       "    <tr>\n",
       "      <th>2</th>\n",
       "      <td>1001</td>\n",
       "      <td>9</td>\n",
       "      <td>49.0</td>\n",
       "      <td>297.69</td>\n",
       "      <td>44.0</td>\n",
       "      <td>13314.82</td>\n",
       "      <td>Seattle-Tacoma-Bellevue, WA MSA</td>\n",
       "      <td>surf</td>\n",
       "    </tr>\n",
       "    <tr>\n",
       "      <th>3</th>\n",
       "      <td>1001</td>\n",
       "      <td>10</td>\n",
       "      <td>65.0</td>\n",
       "      <td>374.11</td>\n",
       "      <td>53.0</td>\n",
       "      <td>22330.49</td>\n",
       "      <td>Seattle-Tacoma-Bellevue, WA MSA</td>\n",
       "      <td>surf</td>\n",
       "    </tr>\n",
       "    <tr>\n",
       "      <th>4</th>\n",
       "      <td>1001</td>\n",
       "      <td>11</td>\n",
       "      <td>64.0</td>\n",
       "      <td>404.59</td>\n",
       "      <td>36.0</td>\n",
       "      <td>18504.30</td>\n",
       "      <td>Seattle-Tacoma-Bellevue, WA MSA</td>\n",
       "      <td>surf</td>\n",
       "    </tr>\n",
       "    <tr>\n",
       "      <th>5</th>\n",
       "      <td>1001</td>\n",
       "      <td>12</td>\n",
       "      <td>56.0</td>\n",
       "      <td>392.93</td>\n",
       "      <td>44.0</td>\n",
       "      <td>19369.18</td>\n",
       "      <td>Seattle-Tacoma-Bellevue, WA MSA</td>\n",
       "      <td>surf</td>\n",
       "    </tr>\n",
       "    <tr>\n",
       "      <th>6</th>\n",
       "      <td>1002</td>\n",
       "      <td>10</td>\n",
       "      <td>11.0</td>\n",
       "      <td>54.13</td>\n",
       "      <td>15.0</td>\n",
       "      <td>6552.01</td>\n",
       "      <td>Las Vegas-Henderson-Paradise, NV MSA</td>\n",
       "      <td>surf</td>\n",
       "    </tr>\n",
       "    <tr>\n",
       "      <th>7</th>\n",
       "      <td>1002</td>\n",
       "      <td>11</td>\n",
       "      <td>55.0</td>\n",
       "      <td>359.76</td>\n",
       "      <td>32.0</td>\n",
       "      <td>19345.08</td>\n",
       "      <td>Las Vegas-Henderson-Paradise, NV MSA</td>\n",
       "      <td>surf</td>\n",
       "    </tr>\n",
       "    <tr>\n",
       "      <th>8</th>\n",
       "      <td>1002</td>\n",
       "      <td>12</td>\n",
       "      <td>47.0</td>\n",
       "      <td>363.24</td>\n",
       "      <td>41.0</td>\n",
       "      <td>14396.24</td>\n",
       "      <td>Las Vegas-Henderson-Paradise, NV MSA</td>\n",
       "      <td>surf</td>\n",
       "    </tr>\n",
       "    <tr>\n",
       "      <th>9</th>\n",
       "      <td>1003</td>\n",
       "      <td>12</td>\n",
       "      <td>149.0</td>\n",
       "      <td>1041.00</td>\n",
       "      <td>50.0</td>\n",
       "      <td>27044.14</td>\n",
       "      <td>Tulsa, OK MSA</td>\n",
       "      <td>surf</td>\n",
       "    </tr>\n",
       "    <tr>\n",
       "      <th>10</th>\n",
       "      <td>1004</td>\n",
       "      <td>5</td>\n",
       "      <td>21.0</td>\n",
       "      <td>181.58</td>\n",
       "      <td>7.0</td>\n",
       "      <td>6547.21</td>\n",
       "      <td>Seattle-Tacoma-Bellevue, WA MSA</td>\n",
       "      <td>surf</td>\n",
       "    </tr>\n",
       "    <tr>\n",
       "      <th>11</th>\n",
       "      <td>1004</td>\n",
       "      <td>6</td>\n",
       "      <td>44.0</td>\n",
       "      <td>261.32</td>\n",
       "      <td>18.0</td>\n",
       "      <td>20672.82</td>\n",
       "      <td>Seattle-Tacoma-Bellevue, WA MSA</td>\n",
       "      <td>surf</td>\n",
       "    </tr>\n",
       "    <tr>\n",
       "      <th>12</th>\n",
       "      <td>1004</td>\n",
       "      <td>7</td>\n",
       "      <td>49.0</td>\n",
       "      <td>358.45</td>\n",
       "      <td>26.0</td>\n",
       "      <td>24516.62</td>\n",
       "      <td>Seattle-Tacoma-Bellevue, WA MSA</td>\n",
       "      <td>surf</td>\n",
       "    </tr>\n",
       "    <tr>\n",
       "      <th>13</th>\n",
       "      <td>1004</td>\n",
       "      <td>8</td>\n",
       "      <td>49.0</td>\n",
       "      <td>334.86</td>\n",
       "      <td>25.0</td>\n",
       "      <td>27981.74</td>\n",
       "      <td>Seattle-Tacoma-Bellevue, WA MSA</td>\n",
       "      <td>surf</td>\n",
       "    </tr>\n",
       "    <tr>\n",
       "      <th>14</th>\n",
       "      <td>1004</td>\n",
       "      <td>9</td>\n",
       "      <td>42.0</td>\n",
       "      <td>284.60</td>\n",
       "      <td>21.0</td>\n",
       "      <td>18852.72</td>\n",
       "      <td>Seattle-Tacoma-Bellevue, WA MSA</td>\n",
       "      <td>surf</td>\n",
       "    </tr>\n",
       "  </tbody>\n",
       "</table>\n",
       "</div>"
      ],
      "text/plain": [
       "    user_id  month  calls_count  total_minutes  messages_count  total_mb_used  \\\n",
       "0      1000     12         16.0         116.83            11.0        1901.47   \n",
       "1      1001      8         27.0         171.14            30.0        6919.15   \n",
       "2      1001      9         49.0         297.69            44.0       13314.82   \n",
       "3      1001     10         65.0         374.11            53.0       22330.49   \n",
       "4      1001     11         64.0         404.59            36.0       18504.30   \n",
       "5      1001     12         56.0         392.93            44.0       19369.18   \n",
       "6      1002     10         11.0          54.13            15.0        6552.01   \n",
       "7      1002     11         55.0         359.76            32.0       19345.08   \n",
       "8      1002     12         47.0         363.24            41.0       14396.24   \n",
       "9      1003     12        149.0        1041.00            50.0       27044.14   \n",
       "10     1004      5         21.0         181.58             7.0        6547.21   \n",
       "11     1004      6         44.0         261.32            18.0       20672.82   \n",
       "12     1004      7         49.0         358.45            26.0       24516.62   \n",
       "13     1004      8         49.0         334.86            25.0       27981.74   \n",
       "14     1004      9         42.0         284.60            21.0       18852.72   \n",
       "\n",
       "                                     city      plan  \n",
       "0   Atlanta-Sandy Springs-Roswell, GA MSA  ultimate  \n",
       "1         Seattle-Tacoma-Bellevue, WA MSA      surf  \n",
       "2         Seattle-Tacoma-Bellevue, WA MSA      surf  \n",
       "3         Seattle-Tacoma-Bellevue, WA MSA      surf  \n",
       "4         Seattle-Tacoma-Bellevue, WA MSA      surf  \n",
       "5         Seattle-Tacoma-Bellevue, WA MSA      surf  \n",
       "6    Las Vegas-Henderson-Paradise, NV MSA      surf  \n",
       "7    Las Vegas-Henderson-Paradise, NV MSA      surf  \n",
       "8    Las Vegas-Henderson-Paradise, NV MSA      surf  \n",
       "9                           Tulsa, OK MSA      surf  \n",
       "10        Seattle-Tacoma-Bellevue, WA MSA      surf  \n",
       "11        Seattle-Tacoma-Bellevue, WA MSA      surf  \n",
       "12        Seattle-Tacoma-Bellevue, WA MSA      surf  \n",
       "13        Seattle-Tacoma-Bellevue, WA MSA      surf  \n",
       "14        Seattle-Tacoma-Bellevue, WA MSA      surf  "
      ]
     },
     "execution_count": 73,
     "metadata": {},
     "output_type": "execute_result"
    }
   ],
   "source": [
    "# Añade la información del conjunto de datos users\n",
    "df_merged = pd.merge(merged_data, df_users, on=['user_id'], how='left')\n",
    "# Eliminamos las columnas que no son necesarias\n",
    "df_merged.drop(['first_name', 'last_name', 'age', 'reg_date', 'churn_date'], axis=1, inplace=True)\n",
    "df_merged.head(15)"
   ]
  },
  {
   "cell_type": "markdown",
   "metadata": {},
   "source": [
    "## Ingresos mesuales por usuario"
   ]
  },
  {
   "cell_type": "code",
   "execution_count": 95,
   "metadata": {
    "id": "5FGCf_c60q1I"
   },
   "outputs": [
    {
     "data": {
      "text/html": [
       "<div>\n",
       "<style scoped>\n",
       "    .dataframe tbody tr th:only-of-type {\n",
       "        vertical-align: middle;\n",
       "    }\n",
       "\n",
       "    .dataframe tbody tr th {\n",
       "        vertical-align: top;\n",
       "    }\n",
       "\n",
       "    .dataframe thead th {\n",
       "        text-align: right;\n",
       "    }\n",
       "</style>\n",
       "<table border=\"1\" class=\"dataframe\">\n",
       "  <thead>\n",
       "    <tr style=\"text-align: right;\">\n",
       "      <th></th>\n",
       "      <th>user_id</th>\n",
       "      <th>month</th>\n",
       "      <th>calls_count</th>\n",
       "      <th>total_minutes</th>\n",
       "      <th>messages_count</th>\n",
       "      <th>total_mb_used</th>\n",
       "      <th>city</th>\n",
       "      <th>plan</th>\n",
       "      <th>monthly_income</th>\n",
       "    </tr>\n",
       "  </thead>\n",
       "  <tbody>\n",
       "    <tr>\n",
       "      <th>0</th>\n",
       "      <td>1000</td>\n",
       "      <td>12</td>\n",
       "      <td>16.0</td>\n",
       "      <td>116.83</td>\n",
       "      <td>11.0</td>\n",
       "      <td>1901.47</td>\n",
       "      <td>Atlanta-Sandy Springs-Roswell, GA MSA</td>\n",
       "      <td>ultimate</td>\n",
       "      <td>70.00</td>\n",
       "    </tr>\n",
       "    <tr>\n",
       "      <th>1</th>\n",
       "      <td>1001</td>\n",
       "      <td>8</td>\n",
       "      <td>27.0</td>\n",
       "      <td>171.14</td>\n",
       "      <td>30.0</td>\n",
       "      <td>6919.15</td>\n",
       "      <td>Seattle-Tacoma-Bellevue, WA MSA</td>\n",
       "      <td>surf</td>\n",
       "      <td>20.00</td>\n",
       "    </tr>\n",
       "    <tr>\n",
       "      <th>2</th>\n",
       "      <td>1001</td>\n",
       "      <td>9</td>\n",
       "      <td>49.0</td>\n",
       "      <td>297.69</td>\n",
       "      <td>44.0</td>\n",
       "      <td>13314.82</td>\n",
       "      <td>Seattle-Tacoma-Bellevue, WA MSA</td>\n",
       "      <td>surf</td>\n",
       "      <td>20.00</td>\n",
       "    </tr>\n",
       "    <tr>\n",
       "      <th>3</th>\n",
       "      <td>1001</td>\n",
       "      <td>10</td>\n",
       "      <td>65.0</td>\n",
       "      <td>374.11</td>\n",
       "      <td>53.0</td>\n",
       "      <td>22330.49</td>\n",
       "      <td>Seattle-Tacoma-Bellevue, WA MSA</td>\n",
       "      <td>surf</td>\n",
       "      <td>90.09</td>\n",
       "    </tr>\n",
       "    <tr>\n",
       "      <th>4</th>\n",
       "      <td>1001</td>\n",
       "      <td>11</td>\n",
       "      <td>64.0</td>\n",
       "      <td>404.59</td>\n",
       "      <td>36.0</td>\n",
       "      <td>18504.30</td>\n",
       "      <td>Seattle-Tacoma-Bellevue, WA MSA</td>\n",
       "      <td>surf</td>\n",
       "      <td>60.00</td>\n",
       "    </tr>\n",
       "    <tr>\n",
       "      <th>5</th>\n",
       "      <td>1001</td>\n",
       "      <td>12</td>\n",
       "      <td>56.0</td>\n",
       "      <td>392.93</td>\n",
       "      <td>44.0</td>\n",
       "      <td>19369.18</td>\n",
       "      <td>Seattle-Tacoma-Bellevue, WA MSA</td>\n",
       "      <td>surf</td>\n",
       "      <td>60.00</td>\n",
       "    </tr>\n",
       "    <tr>\n",
       "      <th>6</th>\n",
       "      <td>1002</td>\n",
       "      <td>10</td>\n",
       "      <td>11.0</td>\n",
       "      <td>54.13</td>\n",
       "      <td>15.0</td>\n",
       "      <td>6552.01</td>\n",
       "      <td>Las Vegas-Henderson-Paradise, NV MSA</td>\n",
       "      <td>surf</td>\n",
       "      <td>20.00</td>\n",
       "    </tr>\n",
       "    <tr>\n",
       "      <th>7</th>\n",
       "      <td>1002</td>\n",
       "      <td>11</td>\n",
       "      <td>55.0</td>\n",
       "      <td>359.76</td>\n",
       "      <td>32.0</td>\n",
       "      <td>19345.08</td>\n",
       "      <td>Las Vegas-Henderson-Paradise, NV MSA</td>\n",
       "      <td>surf</td>\n",
       "      <td>60.00</td>\n",
       "    </tr>\n",
       "    <tr>\n",
       "      <th>8</th>\n",
       "      <td>1002</td>\n",
       "      <td>12</td>\n",
       "      <td>47.0</td>\n",
       "      <td>363.24</td>\n",
       "      <td>41.0</td>\n",
       "      <td>14396.24</td>\n",
       "      <td>Las Vegas-Henderson-Paradise, NV MSA</td>\n",
       "      <td>surf</td>\n",
       "      <td>20.00</td>\n",
       "    </tr>\n",
       "    <tr>\n",
       "      <th>9</th>\n",
       "      <td>1003</td>\n",
       "      <td>12</td>\n",
       "      <td>149.0</td>\n",
       "      <td>1041.00</td>\n",
       "      <td>50.0</td>\n",
       "      <td>27044.14</td>\n",
       "      <td>Tulsa, OK MSA</td>\n",
       "      <td>surf</td>\n",
       "      <td>156.23</td>\n",
       "    </tr>\n",
       "    <tr>\n",
       "      <th>10</th>\n",
       "      <td>1004</td>\n",
       "      <td>5</td>\n",
       "      <td>21.0</td>\n",
       "      <td>181.58</td>\n",
       "      <td>7.0</td>\n",
       "      <td>6547.21</td>\n",
       "      <td>Seattle-Tacoma-Bellevue, WA MSA</td>\n",
       "      <td>surf</td>\n",
       "      <td>20.00</td>\n",
       "    </tr>\n",
       "    <tr>\n",
       "      <th>11</th>\n",
       "      <td>1004</td>\n",
       "      <td>6</td>\n",
       "      <td>44.0</td>\n",
       "      <td>261.32</td>\n",
       "      <td>18.0</td>\n",
       "      <td>20672.82</td>\n",
       "      <td>Seattle-Tacoma-Bellevue, WA MSA</td>\n",
       "      <td>surf</td>\n",
       "      <td>80.00</td>\n",
       "    </tr>\n",
       "    <tr>\n",
       "      <th>12</th>\n",
       "      <td>1004</td>\n",
       "      <td>7</td>\n",
       "      <td>49.0</td>\n",
       "      <td>358.45</td>\n",
       "      <td>26.0</td>\n",
       "      <td>24516.62</td>\n",
       "      <td>Seattle-Tacoma-Bellevue, WA MSA</td>\n",
       "      <td>surf</td>\n",
       "      <td>110.00</td>\n",
       "    </tr>\n",
       "    <tr>\n",
       "      <th>13</th>\n",
       "      <td>1004</td>\n",
       "      <td>8</td>\n",
       "      <td>49.0</td>\n",
       "      <td>334.86</td>\n",
       "      <td>25.0</td>\n",
       "      <td>27981.74</td>\n",
       "      <td>Seattle-Tacoma-Bellevue, WA MSA</td>\n",
       "      <td>surf</td>\n",
       "      <td>150.00</td>\n",
       "    </tr>\n",
       "    <tr>\n",
       "      <th>14</th>\n",
       "      <td>1004</td>\n",
       "      <td>9</td>\n",
       "      <td>42.0</td>\n",
       "      <td>284.60</td>\n",
       "      <td>21.0</td>\n",
       "      <td>18852.72</td>\n",
       "      <td>Seattle-Tacoma-Bellevue, WA MSA</td>\n",
       "      <td>surf</td>\n",
       "      <td>60.00</td>\n",
       "    </tr>\n",
       "  </tbody>\n",
       "</table>\n",
       "</div>"
      ],
      "text/plain": [
       "    user_id  month  calls_count  total_minutes  messages_count  total_mb_used  \\\n",
       "0      1000     12         16.0         116.83            11.0        1901.47   \n",
       "1      1001      8         27.0         171.14            30.0        6919.15   \n",
       "2      1001      9         49.0         297.69            44.0       13314.82   \n",
       "3      1001     10         65.0         374.11            53.0       22330.49   \n",
       "4      1001     11         64.0         404.59            36.0       18504.30   \n",
       "5      1001     12         56.0         392.93            44.0       19369.18   \n",
       "6      1002     10         11.0          54.13            15.0        6552.01   \n",
       "7      1002     11         55.0         359.76            32.0       19345.08   \n",
       "8      1002     12         47.0         363.24            41.0       14396.24   \n",
       "9      1003     12        149.0        1041.00            50.0       27044.14   \n",
       "10     1004      5         21.0         181.58             7.0        6547.21   \n",
       "11     1004      6         44.0         261.32            18.0       20672.82   \n",
       "12     1004      7         49.0         358.45            26.0       24516.62   \n",
       "13     1004      8         49.0         334.86            25.0       27981.74   \n",
       "14     1004      9         42.0         284.60            21.0       18852.72   \n",
       "\n",
       "                                     city      plan  monthly_income  \n",
       "0   Atlanta-Sandy Springs-Roswell, GA MSA  ultimate           70.00  \n",
       "1         Seattle-Tacoma-Bellevue, WA MSA      surf           20.00  \n",
       "2         Seattle-Tacoma-Bellevue, WA MSA      surf           20.00  \n",
       "3         Seattle-Tacoma-Bellevue, WA MSA      surf           90.09  \n",
       "4         Seattle-Tacoma-Bellevue, WA MSA      surf           60.00  \n",
       "5         Seattle-Tacoma-Bellevue, WA MSA      surf           60.00  \n",
       "6    Las Vegas-Henderson-Paradise, NV MSA      surf           20.00  \n",
       "7    Las Vegas-Henderson-Paradise, NV MSA      surf           60.00  \n",
       "8    Las Vegas-Henderson-Paradise, NV MSA      surf           20.00  \n",
       "9                           Tulsa, OK MSA      surf          156.23  \n",
       "10        Seattle-Tacoma-Bellevue, WA MSA      surf           20.00  \n",
       "11        Seattle-Tacoma-Bellevue, WA MSA      surf           80.00  \n",
       "12        Seattle-Tacoma-Bellevue, WA MSA      surf          110.00  \n",
       "13        Seattle-Tacoma-Bellevue, WA MSA      surf          150.00  \n",
       "14        Seattle-Tacoma-Bellevue, WA MSA      surf           60.00  "
      ]
     },
     "execution_count": 95,
     "metadata": {},
     "output_type": "execute_result"
    }
   ],
   "source": [
    "# Calcula el ingreso mensual para cada usuario\n",
    "def calculate_monthly_income(row):\n",
    "    plan = row['plan']\n",
    "    total_minutes = row['total_minutes']\n",
    "    messages_count = row['messages_count']\n",
    "    total_mb_used = row['total_mb_used']\n",
    "\n",
    "    if plan == 'surf':\n",
    "        base_cost = 20\n",
    "        base_minutes = 500\n",
    "        base_messages = 50\n",
    "        base_data_gb = 15\n",
    "        extra_minute_cost = 0.03\n",
    "        extra_message_cost = 0.03\n",
    "        extra_gb_cost = 10\n",
    "    elif plan == 'ultimate':\n",
    "        base_cost = 70\n",
    "        base_minutes = 3000\n",
    "        base_messages = 1000\n",
    "        base_data_gb = 30\n",
    "        extra_minute_cost = 0.01\n",
    "        extra_message_cost = 0.01\n",
    "        extra_gb_cost = 7\n",
    "    else:\n",
    "        raise ValueError(\"Invalid plan specified.\")\n",
    "\n",
    "    # Calculate excesses\n",
    "    if total_minutes > base_minutes:\n",
    "        extra_minutes = math.ceil(total_minutes - base_minutes)\n",
    "    else:\n",
    "        extra_minutes = 0\n",
    "\n",
    "    if messages_count > base_messages:\n",
    "        extra_messages = messages_count - base_messages\n",
    "    else:\n",
    "        extra_messages = 0\n",
    "\n",
    "    if total_mb_used > base_data_gb * 1024:\n",
    "        extra_gb = math.ceil((total_mb_used - base_data_gb * 1024) / 1024)\n",
    "    else:\n",
    "        extra_gb = 0\n",
    "\n",
    "    # Calculate additional charges\n",
    "    additional_charges = (extra_minutes * extra_minute_cost +\n",
    "                          extra_messages * extra_message_cost +\n",
    "                          extra_gb * extra_gb_cost)\n",
    "\n",
    "    # Calculate total income for the month\n",
    "    total_income = base_cost + additional_charges\n",
    "\n",
    "    return total_income\n",
    "\n",
    "# Aplicar la función a cada fila del DataFrame y agregar como nueva columna\n",
    "df_merged['monthly_income'] = df_merged.apply(calculate_monthly_income, axis=1)\n",
    "df_merged.head(15)\n"
   ]
  },
  {
   "cell_type": "markdown",
   "metadata": {
    "id": "-jtyHzJb0q1I"
   },
   "source": [
    "## Estudia el comportamiento de usuario"
   ]
  },
  {
   "cell_type": "markdown",
   "metadata": {
    "id": "vtW4CJEe0q1J"
   },
   "source": [
    "### Llamadas"
   ]
  },
  {
   "cell_type": "code",
   "execution_count": 75,
   "metadata": {
    "id": "Jf5v5--k0q1J"
   },
   "outputs": [
    {
     "name": "stdout",
     "output_type": "stream",
     "text": [
      "        plan  month  total_minutes\n",
      "0       surf      1     192.840000\n",
      "1       surf      2     280.851111\n",
      "2       surf      3     310.970000\n",
      "3       surf      4     332.380000\n",
      "4       surf      5     387.108000\n",
      "5       surf      6     411.450625\n",
      "6       surf      7     428.060917\n",
      "7       surf      8     394.474717\n",
      "8       surf      9     397.133298\n",
      "9       surf     10     414.435733\n",
      "10      surf     11     408.255415\n",
      "11      surf     12     457.547074\n",
      "12  ultimate      1     183.162500\n",
      "13  ultimate      2     443.171667\n",
      "14  ultimate      3     285.701667\n",
      "15  ultimate      4     316.508095\n",
      "16  ultimate      5     383.664828\n",
      "17  ultimate      6     365.358222\n",
      "18  ultimate      7     403.767288\n",
      "19  ultimate      8     397.274789\n",
      "20  ultimate      9     413.287326\n",
      "21  ultimate     10     429.217238\n",
      "22  ultimate     11     423.814683\n",
      "23  ultimate     12     438.824832\n"
     ]
    },
    {
     "data": {
      "image/png": "[encoded data removed]",
      "text/plain": [
       "<Figure size 1200x600 with 1 Axes>"
      ]
     },
     "metadata": {},
     "output_type": "display_data"
    }
   ],
   "source": [
    "# Compara la duración promedio de llamadas por cada plan y por cada mes. Traza un gráfico de barras para visualizarla.\n",
    "avg_duration = df_merged.groupby(['plan', 'month'])['total_minutes'].mean().reset_index()\n",
    "print(avg_duration)\n",
    "\n",
    "avg_duration_surf = avg_duration[avg_duration['plan'] == 'surf']\n",
    "avg_duration_ultimate = avg_duration[avg_duration['plan'] == 'ultimate']\n",
    "\n",
    "# Obtener los meses únicos para ajustar la posición de las barras\n",
    "months = avg_duration['month'].unique()\n",
    "num_months = len(months)\n",
    "\n",
    "# Crear la figura y los ejes para los gráficos\n",
    "fig, ax = plt.subplots(figsize=(12, 6))\n",
    "\n",
    "# Calcular el ancho de las barras\n",
    "bar_width = 0.35\n",
    "\n",
    "# Definir la posición de las barras para surf y ultimate\n",
    "surf_positions = np.arange(num_months)\n",
    "ultimate_positions = np.arange(num_months) + bar_width\n",
    "\n",
    "# Graficar para el plan 'surf'\n",
    "ax.bar(surf_positions, avg_duration_surf['total_minutes'], width=bar_width, color='green', label='Plan Surf')\n",
    "\n",
    "# Graficar para el plan 'ultimate'\n",
    "ax.bar(ultimate_positions, avg_duration_ultimate['total_minutes'], width=bar_width, color='orange', label='Plan Ultimate')\n",
    "\n",
    "# Configuración adicional del gráfico\n",
    "ax.set_title('Duración Promedio de Llamadas por Mes')\n",
    "ax.set_xlabel('Mes')\n",
    "ax.set_ylabel('Duración Promedio (Minutos)')\n",
    "ax.set_xticks(np.arange(num_months) + bar_width / 2)\n",
    "ax.set_xticklabels(months)\n",
    "ax.legend()\n",
    "\n",
    "# Ajustar el espaciado entre subplots y mostrar el gráfico\n",
    "plt.tight_layout()\n",
    "plt.show()"
   ]
  },
  {
   "cell_type": "code",
   "execution_count": 76,
   "metadata": {
    "id": "QoLqW1S_0q1J"
   },
   "outputs": [
    {
     "name": "stdout",
     "output_type": "stream",
     "text": [
      "        plan  month  total_minutes\n",
      "0       surf      1         385.68\n",
      "1       surf      2        2527.66\n",
      "2       surf      3        7152.31\n",
      "3       surf      4       16619.00\n",
      "4       surf      5       29033.10\n",
      "5       surf      6       39499.26\n",
      "6       surf      7       51367.31\n",
      "7       surf      8       62721.48\n",
      "8       surf      9       75852.46\n",
      "9       surf     10       96149.09\n",
      "10      surf     11      113086.75\n",
      "11      surf     12      142297.14\n",
      "12  ultimate      1         732.65\n",
      "13  ultimate      2        2659.03\n",
      "14  ultimate      3        3428.42\n",
      "15  ultimate      4        6646.67\n",
      "16  ultimate      5       11126.28\n",
      "17  ultimate      6       16441.12\n",
      "18  ultimate      7       23822.27\n",
      "19  ultimate      8       28206.51\n",
      "20  ultimate      9       35542.71\n",
      "21  ultimate     10       45067.81\n",
      "22  ultimate     11       53400.65\n",
      "23  ultimate     12       65384.90\n"
     ]
    },
    {
     "data": {
      "image/png": "[encoded data removed]",
      "text/plain": [
       "<Figure size 640x480 with 1 Axes>"
      ]
     },
     "metadata": {},
     "output_type": "display_data"
    }
   ],
   "source": [
    "# Compara el número de minutos mensuales que necesitan los usuarios de cada plan. Traza un histograma.\n",
    "duration_user = df_merged.groupby(['plan', 'month'])['total_minutes'].sum().reset_index()\n",
    "print(duration_user)\n",
    "\n",
    "duration_user[duration_user['plan'] == 'surf']['total_minutes'].plot(kind='hist', bins=12, alpha=0.5, color='green')\n",
    "duration_user[duration_user['plan'] == 'ultimate']['total_minutes'].plot(kind='hist', bins=12, alpha=0.25, color='blue')\n",
    "\n",
    "plt.title('Distribución de Minutos Mensuales por Plan')\n",
    "plt.xlabel('Total de Minutos Mensuales')\n",
    "plt.ylabel('Frecuencia')\n",
    "plt.legend(['Surf', 'Ultimate'])\n",
    "plt.show()"
   ]
  },
  {
   "cell_type": "code",
   "execution_count": 136,
   "metadata": {
    "id": "oSndbAnt0q1K"
   },
   "outputs": [
    {
     "name": "stdout",
     "output_type": "stream",
     "text": [
      "Media de duracion mensual de llamadas plan Surf:\t 53057.60333333333\n",
      "Media de duracion mensual de llamadas plan Ultimate:\t 24371.585000000003\n",
      "Varianza de duracion mensual de llamadas plan Surf:\t 1963633546.295989\n",
      "Varianza de duracion mensual de llamadas plan Ultimate:\t 426189018.833375\n",
      "\n",
      "count        12.000000\n",
      "mean      53057.603333\n",
      "std       46283.319748\n",
      "min         385.680000\n",
      "25%       14252.327500\n",
      "50%       45433.285000\n",
      "75%       80926.617500\n",
      "max      142297.140000\n",
      "Name: total_minutes, dtype: float64\n",
      "\n",
      "count       12.000000\n",
      "mean     24371.585000\n",
      "std      21562.316088\n",
      "min        732.650000\n",
      "25%       5842.107500\n",
      "50%      20131.695000\n",
      "75%      37923.985000\n",
      "max      65384.900000\n",
      "Name: total_minutes, dtype: float64\n"
     ]
    }
   ],
   "source": [
    "# Calcula la media y la varianza de la duración mensual de llamadas.\n",
    "mean_surf = duration_user[duration_user['plan'] == 'surf']['total_minutes'].mean()\n",
    "mean_ultimate = duration_user[duration_user['plan'] == 'ultimate']['total_minutes'].mean()   \n",
    "\n",
    "var_surf = np.var(duration_user[duration_user['plan'] == 'surf']['total_minutes'])\n",
    "var_ultimate = np.var(duration_user[duration_user['plan'] == 'ultimate']['total_minutes'])\n",
    "\n",
    "print('Media de duracion mensual de llamadas plan Surf:\\t', mean_surf)\n",
    "print('Media de duracion mensual de llamadas plan Ultimate:\\t', mean_ultimate)\n",
    "print('Varianza de duracion mensual de llamadas plan Surf:\\t', var_surf)\n",
    "print('Varianza de duracion mensual de llamadas plan Ultimate:\\t', var_ultimate)\n",
    "print()\n",
    "print(duration_user[duration_user['plan'] == 'surf']['total_minutes'].describe())\n",
    "print()\n",
    "print(duration_user[duration_user['plan'] == 'ultimate']['total_minutes'].describe())"
   ]
  },
  {
   "cell_type": "markdown",
   "metadata": {},
   "source": [
    "#### Diagrama de caja para llamadas del plan Sruf"
   ]
  },
  {
   "cell_type": "code",
   "execution_count": 115,
   "metadata": {
    "id": "nZzoRUKc0q1K"
   },
   "outputs": [
    {
     "data": {
      "text/plain": [
       "<Axes: ylabel='total_minutes'>"
      ]
     },
     "execution_count": 115,
     "metadata": {},
     "output_type": "execute_result"
    },
    {
     "data": {
      "image/png": "[encoded data removed]",
      "text/plain": [
       "<Figure size 640x480 with 1 Axes>"
      ]
     },
     "metadata": {},
     "output_type": "display_data"
    }
   ],
   "source": [
    "# Traza un diagrama de caja para visualizar la distribución de la duración mensual de llamadas Surf\n",
    "sns.boxplot(duration_user[duration_user['plan'] == 'surf']['total_minutes'])"
   ]
  },
  {
   "cell_type": "markdown",
   "metadata": {},
   "source": [
    "#### Diagrama de caja para llamdas del plan Ultimate"
   ]
  },
  {
   "cell_type": "code",
   "execution_count": 117,
   "metadata": {},
   "outputs": [
    {
     "data": {
      "text/plain": [
       "<Axes: ylabel='total_minutes'>"
      ]
     },
     "execution_count": 117,
     "metadata": {},
     "output_type": "execute_result"
    },
    {
     "data": {
      "image/png": "[encoded data removed]",
      "text/plain": [
       "<Figure size 640x480 with 1 Axes>"
      ]
     },
     "metadata": {},
     "output_type": "display_data"
    }
   ],
   "source": [
    "# Traza un diagrama de caja para visualizar la distribución de la duración mensual de llamadas Ultimate\n",
    "sns.boxplot(duration_user[duration_user['plan'] == 'ultimate']['total_minutes'])"
   ]
  },
  {
   "cell_type": "markdown",
   "metadata": {
    "id": "r627zBO50q1K"
   },
   "source": [
    "Basándonos en el análisis de la duración de las llamadas, podemos destacar varias observaciones importantes. En primer lugar, la duración promedio de las llamadas para ambos planes es muy similar, lo cual inicialmente sugiere similitudes en el comportamiento de los usuarios de cada plan. Sin embargo, al profundizar en los datos mensuales, observamos que los usuarios del plan Surf acumularon más minutos a lo largo del año. Esta diferencia se hace aún más evidente al comparar la media y la varianza, donde el plan Surf muestra cifras que son aproximadamente el doble de altas que las del plan Ultimate.\n",
    "\n",
    "Los diagramas de caja (boxplots) son herramientas visuales útiles para confirmar y reforzar conclusiones basadas en el análisis de datos, como en el caso del consumo de minutos entre los planes Surf y Ultimate. Veamos cómo estos diagramas pueden respaldar y ampliar las conclusiones mencionadas:\n",
    "\n",
    "Plan Surf: El diagrama de caja muestra que los valores están distribuidos entre aproximadamente 300 y 150,000 minutos a lo largo de todo el conjunto de datos. El intervalo intercuartílico (IQR) se extiende desde aproximadamente 18,000 hasta 80,000 minutos. Esto indica que la mayoría de los datos están concentrados dentro de este rango, con una dispersión relativamente uniforme alrededor de la mediana.\n",
    "\n",
    "Plan Ultimate: Por otro lado, el diagrama de caja del plan Ultimate muestra valores que van desde aproximadamente 700 hasta 65,000 minutos. El IQR de este plan está entre 6,000 y 38,000 minutos aproximadamente. Esto sugiere que, aunque hay una amplia gama de valores, la distribución de los datos es más concentrada en comparación con el plan Surf, con una distribución semiuniforme respecto a la mediana.\n",
    "\n"
   ]
  },
  {
   "cell_type": "markdown",
   "metadata": {
    "id": "8idKy8Wh0q1L"
   },
   "source": [
    "### Mensajes"
   ]
  },
  {
   "cell_type": "code",
   "execution_count": 130,
   "metadata": {
    "id": "NXLxiTit0q1L"
   },
   "outputs": [
    {
     "name": "stdout",
     "output_type": "stream",
     "text": [
      "Promedio de mensajes por mes para cada plan:\n",
      "        plan  month  messages_count\n",
      "0       surf      1            21.0\n",
      "1       surf      2           108.0\n",
      "2       surf      3           351.0\n",
      "3       surf      4           870.0\n",
      "4       surf      5          1849.0\n",
      "5       surf      6          2454.0\n",
      "6       surf      7          3271.0\n",
      "7       surf      8          4662.0\n",
      "8       surf      9          5968.0\n",
      "9       surf     10          8020.0\n",
      "10      surf     11          9165.0\n",
      "11      surf     12         12275.0\n",
      "12  ultimate      1            62.0\n",
      "13  ultimate      2           151.0\n",
      "14  ultimate      3           243.0\n",
      "15  ultimate      4           463.0\n",
      "16  ultimate      5           931.0\n",
      "17  ultimate      6          1379.0\n",
      "18  ultimate      7          1937.0\n",
      "19  ultimate      8          2732.0\n",
      "20  ultimate      9          3259.0\n",
      "21  ultimate     10          4181.0\n",
      "22  ultimate     11          4903.0\n",
      "23  ultimate     12          6796.0\n"
     ]
    },
    {
     "data": {
      "image/png": "[encoded data removed]",
      "text/plain": [
       "<Figure size 1200x600 with 1 Axes>"
      ]
     },
     "metadata": {},
     "output_type": "display_data"
    }
   ],
   "source": [
    "# Comprara el número de mensajes que tienden a enviar cada mes los usuarios de cada plan\n",
    "average_messages_per_plan = df_merged.groupby(['plan','month'])['messages_count'].mean().reset_index()\n",
    "sum_messages_per_plan = df_merged.groupby(['plan','month'])['messages_count'].sum().reset_index()\n",
    "\n",
    "# Mostrar los resultados\n",
    "print(\"Promedio de mensajes por mes para cada plan:\")\n",
    "print(sum_messages_per_plan)\n",
    "\n",
    "avg_messages_surf = average_messages_per_plan[average_messages_per_plan['plan'] == 'surf']\n",
    "avg_messages_ultimate = average_messages_per_plan[average_messages_per_plan['plan'] == 'ultimate']\n",
    "\n",
    "# Obtener los meses únicos para ajustar la posición de las barras\n",
    "months = average_messages_per_plan['month'].unique()\n",
    "num_months = len(months)\n",
    "\n",
    "# Crear la figura y los ejes para los gráficos\n",
    "fig, ax = plt.subplots(figsize=(12, 6))\n",
    "\n",
    "# Calcular el ancho de las barras\n",
    "bar_width = 0.35\n",
    "\n",
    "# Definir la posición de las barras para surf y ultimate\n",
    "surf_positions = np.arange(num_months)\n",
    "ultimate_positions = np.arange(num_months) + bar_width\n",
    "\n",
    "# Graficar para el plan 'surf'\n",
    "ax.bar(surf_positions, avg_messages_surf['messages_count'], width=bar_width, color='green', label='Plan Surf')\n",
    "\n",
    "# Graficar para el plan 'ultimate'\n",
    "ax.bar(ultimate_positions, avg_messages_ultimate['messages_count'], width=bar_width, color='orange', label='Plan Ultimate')\n",
    "\n",
    "# Configuración adicional del gráfico\n",
    "ax.set_title('Promedio de mensajes por mes para cada plan')\n",
    "ax.set_xlabel('Mes')\n",
    "ax.set_ylabel('Promedio de mensajes enviados')\n",
    "ax.set_xticks(np.arange(num_months) + bar_width / 2)\n",
    "ax.set_xticklabels(months)\n",
    "ax.legend()\n",
    "\n",
    "# Ajustar el espaciado entre subplots y mostrar el gráfico\n",
    "plt.tight_layout()\n",
    "plt.show()\n"
   ]
  },
  {
   "cell_type": "code",
   "execution_count": 135,
   "metadata": {},
   "outputs": [
    {
     "name": "stdout",
     "output_type": "stream",
     "text": [
      "Media de mensajes para el plan Surf:\t\t 4084.5\n",
      "Media de mensajes para el plan plan Ultimate:\t 2253.0833333333335\n",
      "Varianza de mensajes para el plan plan Surf:\t 14764949.916666666\n",
      "Varianza de mensajes para el plan plan Ultimate: 4307875.909722221\n",
      "\n",
      "count       12.000000\n",
      "mean      4084.500000\n",
      "std       4013.379884\n",
      "min         21.000000\n",
      "25%        740.250000\n",
      "50%       2862.500000\n",
      "75%       6481.000000\n",
      "max      12275.000000\n",
      "Name: messages_count, dtype: float64\n",
      "\n",
      "count      12.000000\n",
      "mean     2253.083333\n",
      "std      2167.833248\n",
      "min        62.000000\n",
      "25%       408.000000\n",
      "50%      1658.000000\n",
      "75%      3489.500000\n",
      "max      6796.000000\n",
      "Name: messages_count, dtype: float64\n"
     ]
    }
   ],
   "source": [
    "# Calcula la media y la varianza del conteo de mensajes.\n",
    "mean_surf = sum_messages_per_plan[sum_messages_per_plan['plan'] == 'surf']['messages_count'].mean()\n",
    "mean_ultimate = sum_messages_per_plan[sum_messages_per_plan['plan'] == 'ultimate']['messages_count'].mean()\n",
    "\n",
    "var_surf = np.var(sum_messages_per_plan[sum_messages_per_plan['plan'] == 'surf']['messages_count'])\n",
    "var_ultimate = np.var(sum_messages_per_plan[sum_messages_per_plan['plan'] == 'ultimate']['messages_count'])\n",
    "\n",
    "print('Media de mensajes para el plan Surf:\\t\\t', mean_surf)\n",
    "print('Media de mensajes para el plan plan Ultimate:\\t', mean_ultimate)\n",
    "print('Varianza de mensajes para el plan plan Surf:\\t', var_surf)\n",
    "print('Varianza de mensajes para el plan plan Ultimate:', var_ultimate)\n",
    "print()\n",
    "print(sum_messages_per_plan[sum_messages_per_plan['plan'] == 'surf']['messages_count'].describe())\n",
    "print()\n",
    "print(sum_messages_per_plan[sum_messages_per_plan['plan'] == 'ultimate']['messages_count'].describe())"
   ]
  },
  {
   "cell_type": "markdown",
   "metadata": {},
   "source": [
    "#### Diagrama de caja para mensajes del plan Surf"
   ]
  },
  {
   "cell_type": "code",
   "execution_count": 119,
   "metadata": {},
   "outputs": [
    {
     "data": {
      "text/plain": [
       "<Axes: ylabel='messages_count'>"
      ]
     },
     "execution_count": 119,
     "metadata": {},
     "output_type": "execute_result"
    },
    {
     "data": {
      "image/png": "[encoded data removed]",
      "text/plain": [
       "<Figure size 640x480 with 1 Axes>"
      ]
     },
     "metadata": {},
     "output_type": "display_data"
    }
   ],
   "source": [
    "# Traza un diagrama de caja para visualizar la distribución de la duración mensual de llamadas Surf\n",
    "sns.boxplot(sum_messages_per_plan[sum_messages_per_plan['plan'] == 'surf']['messages_count'])"
   ]
  },
  {
   "cell_type": "markdown",
   "metadata": {},
   "source": [
    "#### Diagrama de caja para los mensajes del plan Ultimate"
   ]
  },
  {
   "cell_type": "code",
   "execution_count": 120,
   "metadata": {},
   "outputs": [
    {
     "data": {
      "text/plain": [
       "<Axes: ylabel='messages_count'>"
      ]
     },
     "execution_count": 120,
     "metadata": {},
     "output_type": "execute_result"
    },
    {
     "data": {
      "image/png": "[encoded data removed]",
      "text/plain": [
       "<Figure size 640x480 with 1 Axes>"
      ]
     },
     "metadata": {},
     "output_type": "display_data"
    }
   ],
   "source": [
    "# Traza un diagrama de caja para visualizar la distribución de la duración mensual de llamadas Surf\n",
    "sns.boxplot(sum_messages_per_plan[sum_messages_per_plan['plan'] == 'ultimate']['messages_count'])"
   ]
  },
  {
   "cell_type": "markdown",
   "metadata": {},
   "source": [
    "Basándonos en el análisis de los datos, podemos hacer varias observaciones significativas. Al observar la gráfica del promedio de mensajes enviados mes a mes, parece que el plan Ultimate supera al plan Surf. Sin embargo, al examinar el promedio y la varianza general para cada plan, encontramos que sucede lo contrario a lo que sugiere la gráfica inicial. Similar al análisis de las llamadas, el plan Surf supera al plan Ultimate en términos de promedio y varianza.\n",
    "\n",
    "Esto sugiere que, a pesar de que la gráfica mensual pueda mostrar un mayor número de mensajes enviados por usuario para el plan Ultimate en algunos meses, el promedio general y la variabilidad en el tiempo indican que los usuarios del plan Surf, en conjunto, envían más mensajes en total. Esto podría deberse a que el plan Surf podría tener más usuarios activos en general, lo que resulta en un mayor volumen total de mensajes enviados, a pesar de que el promedio por usuario puede ser menor que en el plan Ultimate.\n",
    "\n",
    "Basado en los diagramas de caja, se puede observar que el plan Surf muestra un rango amplio de valores de mensajes enviados, que varía aproximadamente entre 20 y 12,500 mensajes. La concentración de valores se encuentra mayormente entre 700 y 6,000 mensajes, indicando una distribución sesgada hacia la derecha de la mediana. Esto sugiere que muchos usuarios del plan Surf envían una cantidad moderada a alta de mensajes, contribuyendo a un volumen total considerable de mensajes enviados. En contraste, el plan Ultimate exhibe un rango más estrecho de valores, entre 60 y 7,000 mensajes, con una concentración de valores principalmente entre 400 y 3,500 mensajes. La distribución está sesgada hacia la izquierda de la mediana, indicando que menos usuarios del plan Ultimate envían grandes cantidades de mensajes. Aunque ambos planes muestran un volumen considerable de mensajes, el plan Surf destaca por tener una distribución más amplia y una mayor concentración de usuarios que envían mensajes en cantidades moderadas a altas."
   ]
  },
  {
   "cell_type": "markdown",
   "metadata": {},
   "source": [
    "### Trafico de internet"
   ]
  },
  {
   "cell_type": "code",
   "execution_count": 80,
   "metadata": {
    "id": "GRI_R7xF0q1L"
   },
   "outputs": [
    {
     "name": "stdout",
     "output_type": "stream",
     "text": [
      "Total de tráfico de Internet consumido por mes para cada plan (en MB):\n",
      "        plan  month  total_mb_used\n",
      "0       surf      1        9749.72\n",
      "1       surf      2      109609.59\n",
      "2       surf      3      306945.12\n",
      "3       surf      4      599210.15\n",
      "4       surf      5     1073099.33\n",
      "5       surf      6     1484248.33\n",
      "6       surf      7     2030815.67\n",
      "7       surf      8     2720843.68\n",
      "8       surf      9     3218737.67\n",
      "9       surf     10     4102786.41\n",
      "10      surf     11     4624009.00\n",
      "11      surf     12     5766125.26\n",
      "12  ultimate      1       27672.37\n",
      "13  ultimate      2      119901.66\n",
      "14  ultimate      3      219858.22\n",
      "15  ultimate      4      338554.75\n",
      "16  ultimate      5      482109.99\n",
      "17  ultimate      6      720882.29\n",
      "18  ultimate      7      964339.92\n",
      "19  ultimate      8     1264845.13\n",
      "20  ultimate      9     1459408.78\n",
      "21  ultimate     10     1866930.66\n",
      "22  ultimate     11     2163278.04\n",
      "23  ultimate     12     2766801.97\n"
     ]
    },
    {
     "data": {
      "image/png": "[encoded data removed]",
      "text/plain": [
       "<Figure size 1200x600 with 1 Axes>"
      ]
     },
     "metadata": {},
     "output_type": "display_data"
    }
   ],
   "source": [
    "# Calcular la suma total de tráfico de Internet consumido por mes para cada plan\n",
    "total_mb_per_plan = df_merged.groupby(['plan', 'month'])['total_mb_used'].sum().reset_index()\n",
    "\n",
    "# Mostrar los resultados\n",
    "print(\"Total de tráfico de Internet consumido por mes para cada plan (en MB):\")\n",
    "print(total_mb_per_plan)\n",
    "\n",
    "sum_mb_surf = total_mb_per_plan[total_mb_per_plan['plan'] == 'surf']\n",
    "sum_mb_ultimate = total_mb_per_plan[total_mb_per_plan['plan'] == 'ultimate']\n",
    "\n",
    "# Obtener los meses únicos para ajustar la posición de las barras\n",
    "months = total_mb_per_plan['month'].unique()\n",
    "num_months = len(months)\n",
    "\n",
    "# Crear la figura y los ejes para los gráficos\n",
    "fig, ax = plt.subplots(figsize=(12, 6))\n",
    "\n",
    "# Calcular el ancho de las barras\n",
    "bar_width = 0.35\n",
    "\n",
    "# Definir la posición de las barras para surf y ultimate\n",
    "surf_positions = np.arange(num_months)\n",
    "ultimate_positions = np.arange(num_months) + bar_width\n",
    "\n",
    "# Graficar para el plan 'surf'\n",
    "ax.bar(surf_positions, sum_mb_surf['total_mb_used'], width=bar_width, color='green', label='Plan Surf')\n",
    "\n",
    "# Graficar para el plan 'ultimate'\n",
    "ax.bar(ultimate_positions, sum_mb_ultimate['total_mb_used'], width=bar_width, color='orange', label='Plan Ultimate')\n",
    "\n",
    "# Configuración adicional del gráfico\n",
    "ax.set_title('Total de tráfico de Internet consumido por mes para cada plan (en MB)')\n",
    "ax.set_xlabel('Mes')\n",
    "ax.set_ylabel('Trafico de internet')\n",
    "ax.set_xticks(np.arange(num_months) + bar_width / 2)\n",
    "ax.set_xticklabels(months)\n",
    "ax.legend()\n",
    "\n",
    "# Ajustar el espaciado entre subplots y mostrar el gráfico\n",
    "plt.tight_layout()\n",
    "plt.show()\n"
   ]
  },
  {
   "cell_type": "code",
   "execution_count": 146,
   "metadata": {},
   "outputs": [
    {
     "name": "stdout",
     "output_type": "stream",
     "text": [
      "Media de trafico de internet para el plan Surf:\t\t\t 2170514.9941666666\n",
      "Media de trafico de internet para el plan plan Ultimate:\t 1032881.9816666668\n",
      "Varianza de trafico de internet para el plan plan Surf:\t\t 3386356625425.291\n",
      "Varianza de trafico de internet para el plan plan Ultimate:\t 717342663814.6993\n",
      "\n",
      "count    1.200000e+01\n",
      "mean     2.170515e+06\n",
      "std      1.922032e+06\n",
      "min      9.749720e+03\n",
      "25%      5.261439e+05\n",
      "50%      1.757532e+06\n",
      "75%      3.439750e+06\n",
      "max      5.766125e+06\n",
      "Name: total_mb_used, dtype: float64\n",
      "\n",
      "count    1.200000e+01\n",
      "mean     1.032882e+06\n",
      "std      8.846217e+05\n",
      "min      2.767237e+04\n",
      "25%      3.088806e+05\n",
      "50%      8.426111e+05\n",
      "75%      1.561289e+06\n",
      "max      2.766802e+06\n",
      "Name: total_mb_used, dtype: float64\n"
     ]
    }
   ],
   "source": [
    "mean_surf = total_mb_per_plan[total_mb_per_plan['plan'] == 'surf']['total_mb_used'].mean()\n",
    "mean_ultimate = total_mb_per_plan[total_mb_per_plan['plan'] == 'ultimate']['total_mb_used'].mean()\n",
    "\n",
    "var_surf = np.var(total_mb_per_plan[total_mb_per_plan['plan'] == 'surf']['total_mb_used'])\n",
    "var_ultimate = np.var(total_mb_per_plan[total_mb_per_plan['plan'] == 'ultimate']['total_mb_used'])\n",
    "\n",
    "print('Media de trafico de internet para el plan Surf:\\t\\t\\t', mean_surf)\n",
    "print('Media de trafico de internet para el plan plan Ultimate:\\t', mean_ultimate)\n",
    "print('Varianza de trafico de internet para el plan plan Surf:\\t\\t', var_surf)\n",
    "print('Varianza de trafico de internet para el plan plan Ultimate:\\t', var_ultimate)\n",
    "print()\n",
    "print(total_mb_per_plan[total_mb_per_plan['plan'] == 'surf']['total_mb_used'].describe())\n",
    "print()\n",
    "print(total_mb_per_plan[total_mb_per_plan['plan'] == 'ultimate']['total_mb_used'].describe())"
   ]
  },
  {
   "cell_type": "markdown",
   "metadata": {},
   "source": [
    "#### Diagrama de caja para internet del plan Surf"
   ]
  },
  {
   "cell_type": "code",
   "execution_count": 147,
   "metadata": {},
   "outputs": [
    {
     "data": {
      "text/plain": [
       "<Axes: ylabel='total_mb_used'>"
      ]
     },
     "execution_count": 147,
     "metadata": {},
     "output_type": "execute_result"
    },
    {
     "data": {
      "image/png": "[encoded data removed]",
      "text/plain": [
       "<Figure size 640x480 with 1 Axes>"
      ]
     },
     "metadata": {},
     "output_type": "display_data"
    }
   ],
   "source": [
    "# Traza un diagrama de caja para visualizar la distribución de la duración mensual de llamadas Surf\n",
    "sns.boxplot(total_mb_per_plan[total_mb_per_plan['plan'] == 'surf']['total_mb_used'])"
   ]
  },
  {
   "cell_type": "markdown",
   "metadata": {},
   "source": [
    "#### Diagrama de caja de internet para el plan Ultimate"
   ]
  },
  {
   "cell_type": "code",
   "execution_count": 148,
   "metadata": {},
   "outputs": [
    {
     "data": {
      "text/plain": [
       "<Axes: ylabel='total_mb_used'>"
      ]
     },
     "execution_count": 148,
     "metadata": {},
     "output_type": "execute_result"
    },
    {
     "data": {
      "image/png": "[encoded data removed]",
      "text/plain": [
       "<Figure size 640x480 with 1 Axes>"
      ]
     },
     "metadata": {},
     "output_type": "display_data"
    }
   ],
   "source": [
    "# Traza un diagrama de caja para visualizar la distribución de la duración mensual de llamadas Ultimate\n",
    "sns.boxplot(total_mb_per_plan[total_mb_per_plan['plan'] == 'ultimate']['total_mb_used'])"
   ]
  },
  {
   "cell_type": "markdown",
   "metadata": {},
   "source": [
    "Basándonos en los datos del tráfico de internet, se puede observar claramente que el plan Surf supera al plan Ultimate en el consumo de datos en cada mes, doblando su uso en cada caso. Los diagramas de caja proporcionan una representación visual que confirma esta disparidad de manera más evidente: el plan Surf muestra un rango de valores de consumo de datos de 10,000 a 6,000,000, mientras que el plan Ultimate tiene un rango más limitado de 27,500 a solo 2,800,000. Esto indica de manera directa que el plan Surf tiene un volumen considerablemente mayor de tráfico de información en comparación con el plan Ultimate, sin necesidad de un análisis más exhaustivo para determinar cuál plan tiene una mayor demanda de datos."
   ]
  },
  {
   "cell_type": "markdown",
   "metadata": {
    "id": "tCijq3260q1N"
   },
   "source": [
    "### Ingreso"
   ]
  },
  {
   "cell_type": "markdown",
   "metadata": {
    "id": "9nq5IAcy0q1O"
   },
   "source": [
    "[Del mismo modo que has estudiado el comportamiento de los usuarios, describe estadísticamente los ingresos de los planes.]"
   ]
  },
  {
   "cell_type": "code",
   "execution_count": 81,
   "metadata": {
    "id": "tz-dq_V00q1O"
   },
   "outputs": [
    {
     "name": "stdout",
     "output_type": "stream",
     "text": [
      "Ingresos por mes para cada plan\n",
      "        plan  month  monthly_income\n",
      "0       surf      1           40.00\n",
      "1       surf      2          308.34\n",
      "2       surf      3         1053.23\n",
      "3       surf      4         2022.93\n",
      "4       surf      5         3637.49\n",
      "5       surf      6         4746.71\n",
      "6       surf      7         7529.38\n",
      "7       surf      8        10299.43\n",
      "8       surf      9        11242.75\n",
      "9       surf     10        15417.11\n",
      "10      surf     11        16310.27\n",
      "11      surf     12        22294.40\n",
      "12  ultimate      1          280.00\n",
      "13  ultimate      2          490.00\n",
      "14  ultimate      3          896.00\n",
      "15  ultimate      4         1533.00\n",
      "16  ultimate      5         2051.00\n",
      "17  ultimate      6         3367.00\n",
      "18  ultimate      7         4242.00\n",
      "19  ultimate      8         5173.00\n",
      "20  ultimate      9         6195.00\n",
      "21  ultimate     10         7665.00\n",
      "22  ultimate     11         9107.00\n",
      "23  ultimate     12        11067.00\n"
     ]
    },
    {
     "data": {
      "image/png": "[encoded data removed]",
      "text/plain": [
       "<Figure size 1200x600 with 1 Axes>"
      ]
     },
     "metadata": {},
     "output_type": "display_data"
    }
   ],
   "source": [
    "income_per_plan = df_merged.groupby(['plan', 'month'])['monthly_income'].sum().reset_index()\n",
    "\n",
    "# Mostrar los resultados\n",
    "print(\"Ingresos por mes para cada plan\")\n",
    "print(income_per_plan)\n",
    "\n",
    "income_surf = income_per_plan[income_per_plan['plan'] == 'surf']\n",
    "imcome_ultimate = income_per_plan[income_per_plan['plan'] == 'ultimate']\n",
    "\n",
    "# Obtener los meses únicos para ajustar la posición de las barras\n",
    "months = income_per_plan['month'].unique()\n",
    "num_months = len(months)\n",
    "\n",
    "# Crear la figura y los ejes para los gráficos\n",
    "fig, ax = plt.subplots(figsize=(12, 6))\n",
    "\n",
    "# Calcular el ancho de las barras\n",
    "bar_width = 0.35\n",
    "\n",
    "# Definir la posición de las barras para surf y ultimate\n",
    "surf_positions = np.arange(num_months)\n",
    "ultimate_positions = np.arange(num_months) + bar_width\n",
    "\n",
    "# Graficar para el plan 'surf'\n",
    "ax.bar(surf_positions, income_surf['monthly_income'], width=bar_width, color='green', label='Plan Surf')\n",
    "\n",
    "# Graficar para el plan 'ultimate'\n",
    "ax.bar(ultimate_positions, imcome_ultimate['monthly_income'], width=bar_width, color='orange', label='Plan Ultimate')\n",
    "\n",
    "# Configuración adicional del gráfico\n",
    "ax.set_title('\"Ingresos por mes para cada plan\"')\n",
    "ax.set_xlabel('Mes')\n",
    "ax.set_ylabel('Ingresos')\n",
    "ax.set_xticks(np.arange(num_months) + bar_width / 2)\n",
    "ax.set_xticklabels(months)\n",
    "ax.legend()\n",
    "\n",
    "# Ajustar el espaciado entre subplots y mostrar el gráfico\n",
    "plt.tight_layout()\n",
    "plt.show()\n"
   ]
  },
  {
   "cell_type": "code",
   "execution_count": 149,
   "metadata": {},
   "outputs": [
    {
     "name": "stdout",
     "output_type": "stream",
     "text": [
      "Media de trafico de internet para el plan Surf:\t\t\t 7908.503333333334\n",
      "Media de trafico de internet para el plan plan Ultimate:\t 4338.833333333333\n",
      "Varianza de trafico de internet para el plan plan Surf:\t\t 48370784.25618889\n",
      "Varianza de trafico de internet para el plan plan Ultimate:\t 11700806.63888889\n",
      "\n",
      "count       12.000000\n",
      "mean      7908.503333\n",
      "std       7264.167418\n",
      "min         40.000000\n",
      "25%       1780.505000\n",
      "50%       6138.045000\n",
      "75%      12286.340000\n",
      "max      22294.400000\n",
      "Name: monthly_income, dtype: float64\n",
      "\n",
      "count       12.000000\n",
      "mean      4338.833333\n",
      "std       3572.746329\n",
      "min        280.000000\n",
      "25%       1373.750000\n",
      "50%       3804.500000\n",
      "75%       6562.500000\n",
      "max      11067.000000\n",
      "Name: monthly_income, dtype: float64\n"
     ]
    }
   ],
   "source": [
    "mean_surf = income_per_plan[income_per_plan['plan'] == 'surf']['monthly_income'].mean()\n",
    "mean_ultimate = income_per_plan[income_per_plan['plan'] == 'ultimate']['monthly_income'].mean()\n",
    "\n",
    "var_surf = np.var(income_per_plan[income_per_plan['plan'] == 'surf']['monthly_income'])\n",
    "var_ultimate = np.var(income_per_plan[income_per_plan['plan'] == 'ultimate']['monthly_income'])\n",
    "\n",
    "print('Media de trafico de internet para el plan Surf:\\t\\t\\t', mean_surf)\n",
    "print('Media de trafico de internet para el plan plan Ultimate:\\t', mean_ultimate)\n",
    "print('Varianza de trafico de internet para el plan plan Surf:\\t\\t', var_surf)\n",
    "print('Varianza de trafico de internet para el plan plan Ultimate:\\t', var_ultimate)\n",
    "print()\n",
    "print(income_per_plan[income_per_plan['plan'] == 'surf']['monthly_income'].describe())\n",
    "print()\n",
    "print(income_per_plan[income_per_plan['plan'] == 'ultimate']['monthly_income'].describe())"
   ]
  },
  {
   "cell_type": "markdown",
   "metadata": {},
   "source": [
    "#### Diagrama de caja para ingresos del plan Surf"
   ]
  },
  {
   "cell_type": "code",
   "execution_count": 150,
   "metadata": {},
   "outputs": [
    {
     "data": {
      "text/plain": [
       "<Axes: ylabel='monthly_income'>"
      ]
     },
     "execution_count": 150,
     "metadata": {},
     "output_type": "execute_result"
    },
    {
     "data": {
      "image/png": "[encoded data removed]",
      "text/plain": [
       "<Figure size 640x480 with 1 Axes>"
      ]
     },
     "metadata": {},
     "output_type": "display_data"
    }
   ],
   "source": [
    "# Traza un diagrama de caja para visualizar la distribución de la duración mensual de llamadas Surf\n",
    "sns.boxplot(income_per_plan[income_per_plan['plan'] == 'surf']['monthly_income'])"
   ]
  },
  {
   "cell_type": "markdown",
   "metadata": {},
   "source": [
    "#### Diagrama de caja para ingresos del plan Utimate"
   ]
  },
  {
   "cell_type": "code",
   "execution_count": 151,
   "metadata": {},
   "outputs": [
    {
     "data": {
      "text/plain": [
       "<Axes: ylabel='monthly_income'>"
      ]
     },
     "execution_count": 151,
     "metadata": {},
     "output_type": "execute_result"
    },
    {
     "data": {
      "image/png": "[encoded data removed]",
      "text/plain": [
       "<Figure size 640x480 with 1 Axes>"
      ]
     },
     "metadata": {},
     "output_type": "display_data"
    }
   ],
   "source": [
    "# Traza un diagrama de caja para visualizar la distribución de la duración mensual de llamadas Ultimate\n",
    "sns.boxplot(income_per_plan[income_per_plan['plan'] == 'ultimate']['monthly_income'])"
   ]
  },
  {
   "cell_type": "markdown",
   "metadata": {
    "id": "KAFidcXZ0q1P"
   },
   "source": [
    "Basándonos en los datos de ingresos por plan, se puede concluir claramente que el plan Surf contribuye más significativamente a las ganancias de la compañía. La observación de la gráfica muestra que el plan Ultimate lidera en ingresos solo durante los primeros dos meses del año, mientras que el plan Surf duplica este valor durante el resto del año. Esta disparidad también se refleja en los diagramas de caja, donde el plan Surf exhibe un rango de valores más amplio y un intervalo intercuartílico más extenso en comparación con el plan Ultimate. Estos hallazgos indican de manera inequívoca que la mayor parte de los ingresos provienen del plan Surf, haciendo innecesario un análisis más profundo para comprender la diferencia significativa en contribuciones financieras entre ambos planes."
   ]
  },
  {
   "cell_type": "markdown",
   "metadata": {
    "id": "ajJ7VKeI0q1Q"
   },
   "source": [
    "## Prueba las hipótesis estadísticas"
   ]
  },
  {
   "cell_type": "markdown",
   "metadata": {
    "id": "AdXAZ-yL0q1Q"
   },
   "source": [
    "Prueba la hipótesis de que son diferentes los ingresos promedio procedentes de los usuarios de los planes de llamada Ultimate y Surf."
   ]
  },
  {
   "cell_type": "code",
   "execution_count": 82,
   "metadata": {
    "id": "nFoPNlPq0q1R"
   },
   "outputs": [
    {
     "name": "stdout",
     "output_type": "stream",
     "text": [
      "Valor de t: -8.225558153987386\n",
      "Valor p: 3.626607306410092e-16\n",
      "Se rechaza la hipótesis nula. Hay evidencia suficiente para concluir que los ingresos promedio son diferentes.\n"
     ]
    }
   ],
   "source": [
    "# Prueba las hipótesis\n",
    "# Separar los ingresos por plan\n",
    "income_surf = df_merged[df_merged['plan'] == 'surf']['monthly_income']\n",
    "income_ultimate = df_merged[df_merged['plan'] == 'ultimate']['monthly_income']\n",
    "\n",
    "# Realizar la prueba t de Student para muestras independientes\n",
    "t_statistic, p_value = st.ttest_ind(income_surf, income_ultimate, equal_var=False)\n",
    "\n",
    "# Mostrar los resultados\n",
    "print(f\"Valor de t: {t_statistic}\")\n",
    "print(f\"Valor p: {p_value}\")\n",
    "\n",
    "alpha = 0.05\n",
    "if p_value < alpha:\n",
    "    print(\"Se rechaza la hipótesis nula. Hay evidencia suficiente para concluir que los ingresos promedio son diferentes.\")\n",
    "else:\n",
    "    print(\"No se puede rechazar la hipótesis nula. No hay suficiente evidencia para concluir que los ingresos promedio son diferentes.\")\n"
   ]
  },
  {
   "cell_type": "markdown",
   "metadata": {
    "id": "tCcAruM60q1R"
   },
   "source": [
    "Prueba la hipótesis de que el ingreso promedio de los usuarios del área NY-NJ es diferente al de los usuarios de otras regiones."
   ]
  },
  {
   "cell_type": "code",
   "execution_count": 96,
   "metadata": {
    "id": "Cqcj7wrZ0q1S"
   },
   "outputs": [
    {
     "name": "stdout",
     "output_type": "stream",
     "text": [
      "Valor de t: -2.159412770548063\n",
      "Valor p: 0.031239256515302714\n",
      "Se rechaza la hipótesis nula. Hay evidencia suficiente para concluir que los ingresos promedio son diferentes.\n"
     ]
    }
   ],
   "source": [
    "# Prueba las hipótesis\n",
    "# Separar los ingresos por la region de NY-NJ y las demas\n",
    "income_NY_NJ = df_merged[df_merged['city'] == 'New York-Newark-Jersey City, NY-NJ-PA MSA']['monthly_income']\n",
    "income_others = df_merged[df_merged['city'] != 'New York-Newark-Jersey City, NY-NJ-PA MSA']['monthly_income']\n",
    "\n",
    "# Realizar la prueba t de Student para muestras independientes\n",
    "t_statistic, p_value = st.ttest_ind(income_NY_NJ, income_others, equal_var=False)\n",
    "\n",
    "# Mostrar los resultados\n",
    "print(f\"Valor de t: {t_statistic}\")\n",
    "print(f\"Valor p: {p_value}\")\n",
    "\n",
    "alpha = 0.05\n",
    "if p_value < alpha:\n",
    "    print(\"Se rechaza la hipótesis nula. Hay evidencia suficiente para concluir que los ingresos promedio son diferentes.\")\n",
    "else:\n",
    "    print(\"No se puede rechazar la hipótesis nula. No hay suficiente evidencia para concluir que los ingresos promedio son diferentes.\")"
   ]
  },
  {
   "cell_type": "markdown",
   "metadata": {
    "id": "bbTR8UQO0q1T"
   },
   "source": [
    "## Conclusión general\n",
    "\n",
    "En conclusión, el análisis detallado de los planes Surf y Ultimate revela patrones distintivos en el comportamiento de los usuarios y en el rendimiento financiero de la compañía. En términos de uso de servicios como llamadas, mensajes y tráfico de internet, el plan Surf muestra consistentemente un mayor volumen de actividad, reflejado en mayores promedios y variabilidades en comparación con el plan Ultimate. Este patrón se refuerza mediante diagramas de caja que destacan la distribución más amplia de datos para el plan Surf. Además, en cuanto a ingresos generados, el plan Surf contribuye de manera significativa durante todo el año, superando considerablemente al plan Ultimate en términos de ingresos acumulados mensualmente. Estas observaciones subrayan la importancia de comprender las preferencias y patrones de uso de los usuarios para ajustar estrategias comerciales y optimizar la oferta de servicios, asegurando así un mejor rendimiento financiero y satisfacción del cliente en la compañía."
   ]
  },
  {
   "cell_type": "markdown",
   "metadata": {},
   "source": []
  }
 ],
 "metadata": {
  "ExecuteTimeLog": [
   {
    "duration": 828,
    "start_time": "2021-11-16T09:21:11.304Z"
   },
   {
    "duration": 893,
    "start_time": "2021-11-16T09:21:17.728Z"
   },
   {
    "duration": 1150,
    "start_time": "2021-11-16T09:21:29.568Z"
   },
   {
    "duration": 3,
    "start_time": "2021-11-16T09:24:14.495Z"
   },
   {
    "duration": 120,
    "start_time": "2021-11-16T09:24:46.630Z"
   },
   {
    "duration": 3,
    "start_time": "2021-11-16T09:28:27.882Z"
   },
   {
    "duration": 4,
    "start_time": "2021-11-16T09:29:54.281Z"
   },
   {
    "duration": 3,
    "start_time": "2021-11-16T09:30:45.936Z"
   },
   {
    "duration": 4,
    "start_time": "2021-11-16T09:31:06.300Z"
   },
   {
    "duration": 113,
    "start_time": "2021-11-16T09:31:37.208Z"
   },
   {
    "duration": 143,
    "start_time": "2021-11-16T09:31:48.656Z"
   },
   {
    "duration": 98,
    "start_time": "2021-11-16T09:31:55.678Z"
   },
   {
    "duration": 3,
    "start_time": "2021-11-16T09:32:08.535Z"
   },
   {
    "duration": 111,
    "start_time": "2021-11-16T09:32:10.120Z"
   },
   {
    "duration": 3,
    "start_time": "2021-11-16T09:32:15.732Z"
   },
   {
    "duration": 4,
    "start_time": "2021-11-16T09:32:29.423Z"
   },
   {
    "duration": 3,
    "start_time": "2021-11-16T10:03:03.074Z"
   },
   {
    "duration": 3,
    "start_time": "2021-11-16T10:10:01.288Z"
   },
   {
    "duration": 3,
    "start_time": "2021-11-16T10:10:46.923Z"
   },
   {
    "duration": 121,
    "start_time": "2021-11-16T10:37:46.494Z"
   },
   {
    "duration": 125,
    "start_time": "2021-11-16T10:38:20.632Z"
   },
   {
    "duration": 112,
    "start_time": "2021-11-16T10:46:53.001Z"
   },
   {
    "duration": 110,
    "start_time": "2021-11-16T10:48:25.775Z"
   },
   {
    "duration": 3,
    "start_time": "2021-11-16T10:50:18.720Z"
   },
   {
    "duration": 4,
    "start_time": "2021-11-16T10:50:37.649Z"
   },
   {
    "duration": 2,
    "start_time": "2021-11-16T10:50:51.884Z"
   },
   {
    "duration": 3,
    "start_time": "2021-11-16T10:51:56.237Z"
   },
   {
    "duration": 101,
    "start_time": "2021-11-16T10:53:13.791Z"
   },
   {
    "duration": 3,
    "start_time": "2021-11-16T10:55:59.186Z"
   },
   {
    "duration": 3,
    "start_time": "2021-11-16T10:56:10.751Z"
   },
   {
    "duration": 3,
    "start_time": "2021-11-16T10:56:49.038Z"
   },
   {
    "duration": 3,
    "start_time": "2021-11-16T10:56:49.174Z"
   },
   {
    "duration": 4,
    "start_time": "2021-11-16T10:56:49.414Z"
   },
   {
    "duration": 3,
    "start_time": "2021-11-16T10:56:49.680Z"
   },
   {
    "duration": 3,
    "start_time": "2021-11-16T10:56:50.370Z"
   },
   {
    "duration": 114,
    "start_time": "2021-11-16T10:59:34.518Z"
   },
   {
    "duration": 3,
    "start_time": "2021-11-16T11:01:41.201Z"
   },
   {
    "duration": 116,
    "start_time": "2021-11-16T11:01:48.754Z"
   },
   {
    "duration": 3,
    "start_time": "2021-11-16T11:02:16.685Z"
   },
   {
    "duration": 3,
    "start_time": "2021-11-16T11:02:19.479Z"
   },
   {
    "duration": 3,
    "start_time": "2021-11-16T11:02:47.067Z"
   },
   {
    "duration": 3,
    "start_time": "2021-11-16T11:02:49.353Z"
   },
   {
    "duration": 3,
    "start_time": "2021-11-16T11:03:07.835Z"
   },
   {
    "duration": 3,
    "start_time": "2021-11-16T11:03:07.953Z"
   },
   {
    "duration": 112,
    "start_time": "2021-11-16T11:07:52.072Z"
   },
   {
    "duration": 187,
    "start_time": "2021-11-16T11:09:23.468Z"
   },
   {
    "duration": 4,
    "start_time": "2021-11-16T11:10:01.455Z"
   },
   {
    "duration": 3,
    "start_time": "2021-11-16T11:10:05.069Z"
   },
   {
    "duration": 4,
    "start_time": "2021-11-16T11:10:13.376Z"
   },
   {
    "duration": 3,
    "start_time": "2021-11-16T11:10:14.434Z"
   },
   {
    "duration": 3,
    "start_time": "2021-11-16T11:10:22.853Z"
   },
   {
    "duration": 4,
    "start_time": "2021-11-16T11:27:29.279Z"
   },
   {
    "duration": 4,
    "start_time": "2021-11-16T11:29:08.919Z"
   },
   {
    "duration": 118,
    "start_time": "2021-11-16T11:29:46.703Z"
   },
   {
    "duration": 437,
    "start_time": "2021-11-16T11:36:02.181Z"
   },
   {
    "duration": 157,
    "start_time": "2021-11-16T11:36:14.388Z"
   },
   {
    "duration": 207,
    "start_time": "2021-11-16T11:47:15.898Z"
   },
   {
    "duration": 3,
    "start_time": "2021-11-16T11:53:52.092Z"
   },
   {
    "duration": 3,
    "start_time": "2021-11-16T11:53:52.236Z"
   },
   {
    "duration": 3,
    "start_time": "2021-11-16T11:59:12.005Z"
   },
   {
    "duration": 112,
    "start_time": "2021-11-16T12:00:33.446Z"
   },
   {
    "duration": 3,
    "start_time": "2021-11-16T12:02:14.453Z"
   },
   {
    "duration": 3,
    "start_time": "2021-11-16T12:02:39.512Z"
   },
   {
    "duration": 106,
    "start_time": "2021-11-16T12:03:03.460Z"
   },
   {
    "duration": 3,
    "start_time": "2021-11-17T20:37:21.139Z"
   },
   {
    "duration": 3,
    "start_time": "2021-11-17T20:37:22.229Z"
   },
   {
    "duration": 3,
    "start_time": "2021-11-17T20:38:38.806Z"
   },
   {
    "duration": 3,
    "start_time": "2021-11-17T20:38:41.958Z"
   },
   {
    "duration": 3,
    "start_time": "2021-11-17T20:43:46.551Z"
   },
   {
    "duration": 4,
    "start_time": "2021-11-17T20:58:21.835Z"
   },
   {
    "duration": 3,
    "start_time": "2021-11-17T20:59:21.872Z"
   },
   {
    "duration": 4,
    "start_time": "2021-11-17T20:59:45.352Z"
   },
   {
    "duration": 4,
    "start_time": "2021-11-17T20:59:49.646Z"
   },
   {
    "duration": 159,
    "start_time": "2021-11-17T21:02:26.949Z"
   },
   {
    "duration": 3,
    "start_time": "2021-11-17T21:03:53.461Z"
   },
   {
    "duration": 3,
    "start_time": "2021-11-17T21:03:53.694Z"
   },
   {
    "duration": 3,
    "start_time": "2021-11-17T21:05:28.145Z"
   },
   {
    "duration": 116,
    "start_time": "2021-11-17T21:05:57.787Z"
   },
   {
    "duration": 3,
    "start_time": "2021-11-17T21:06:37.993Z"
   },
   {
    "duration": 3,
    "start_time": "2021-11-17T21:06:38.261Z"
   },
   {
    "duration": 3,
    "start_time": "2021-11-17T21:11:54.358Z"
   },
   {
    "duration": 3,
    "start_time": "2021-11-17T21:12:43.846Z"
   },
   {
    "duration": 4,
    "start_time": "2021-11-17T21:13:08.773Z"
   },
   {
    "duration": 3,
    "start_time": "2021-11-17T21:14:44.441Z"
   },
   {
    "duration": 3,
    "start_time": "2021-11-17T21:15:42.059Z"
   },
   {
    "duration": 4,
    "start_time": "2021-11-17T21:15:51.995Z"
   },
   {
    "duration": 3,
    "start_time": "2021-11-17T21:15:53.923Z"
   },
   {
    "duration": 3,
    "start_time": "2021-11-17T21:15:55.282Z"
   },
   {
    "duration": 3,
    "start_time": "2021-11-17T21:16:28.492Z"
   },
   {
    "duration": 3,
    "start_time": "2021-11-17T21:16:32.603Z"
   },
   {
    "duration": 3,
    "start_time": "2021-11-17T21:17:06.941Z"
   },
   {
    "duration": 98,
    "start_time": "2021-11-17T21:18:05.733Z"
   },
   {
    "duration": 4,
    "start_time": "2021-11-17T21:21:35.255Z"
   },
   {
    "duration": 3,
    "start_time": "2021-11-17T21:21:37.804Z"
   },
   {
    "duration": 4,
    "start_time": "2021-11-17T21:23:06.071Z"
   },
   {
    "duration": 3,
    "start_time": "2021-11-17T21:23:24.799Z"
   },
   {
    "duration": 3,
    "start_time": "2021-11-17T21:23:32.591Z"
   },
   {
    "duration": 98,
    "start_time": "2021-11-17T21:28:31.559Z"
   },
   {
    "duration": 3,
    "start_time": "2021-11-17T21:28:45.448Z"
   },
   {
    "duration": 3,
    "start_time": "2021-11-17T21:29:17.303Z"
   },
   {
    "duration": 3,
    "start_time": "2021-11-17T21:29:29.617Z"
   },
   {
    "duration": 3,
    "start_time": "2021-11-17T21:29:32.681Z"
   },
   {
    "duration": 3,
    "start_time": "2021-11-17T21:36:11.474Z"
   },
   {
    "duration": 3,
    "start_time": "2021-11-17T21:36:14.791Z"
   },
   {
    "duration": 3,
    "start_time": "2021-11-17T21:36:53.943Z"
   },
   {
    "duration": 3,
    "start_time": "2021-11-17T21:36:56.165Z"
   },
   {
    "duration": 4,
    "start_time": "2021-11-17T21:37:16.590Z"
   },
   {
    "duration": 3,
    "start_time": "2021-11-17T21:37:22.702Z"
   },
   {
    "duration": 4,
    "start_time": "2021-11-17T21:38:03.479Z"
   },
   {
    "duration": 3,
    "start_time": "2021-11-17T21:38:08.601Z"
   },
   {
    "duration": 3,
    "start_time": "2021-11-17T21:38:12.928Z"
   },
   {
    "duration": 3,
    "start_time": "2021-11-17T21:38:48.896Z"
   },
   {
    "duration": 2,
    "start_time": "2021-11-17T21:38:49.171Z"
   },
   {
    "duration": 4,
    "start_time": "2021-11-17T21:39:57.889Z"
   },
   {
    "duration": 3,
    "start_time": "2021-11-17T21:39:58.057Z"
   },
   {
    "duration": 3,
    "start_time": "2021-11-17T21:41:20.108Z"
   },
   {
    "duration": 3,
    "start_time": "2021-11-17T21:41:20.629Z"
   },
   {
    "duration": 3,
    "start_time": "2021-11-17T21:42:49.136Z"
   },
   {
    "duration": 3,
    "start_time": "2021-11-17T21:43:15.137Z"
   },
   {
    "duration": 4,
    "start_time": "2021-11-17T21:43:16.766Z"
   },
   {
    "duration": 4,
    "start_time": "2021-11-17T21:43:31.711Z"
   },
   {
    "duration": 3,
    "start_time": "2021-11-17T21:43:36.312Z"
   },
   {
    "duration": 4,
    "start_time": "2021-11-17T21:45:08.825Z"
   },
   {
    "duration": 4,
    "start_time": "2021-11-17T21:45:10.119Z"
   },
   {
    "duration": 4,
    "start_time": "2021-11-17T21:45:13.748Z"
   },
   {
    "duration": 3,
    "start_time": "2021-11-17T21:45:22.219Z"
   },
   {
    "duration": 3,
    "start_time": "2021-11-17T21:45:33.412Z"
   },
   {
    "duration": 2,
    "start_time": "2021-11-17T21:46:01.885Z"
   },
   {
    "duration": 3,
    "start_time": "2021-11-17T21:46:03.628Z"
   },
   {
    "duration": 107,
    "start_time": "2021-11-17T21:47:32.512Z"
   },
   {
    "duration": 103,
    "start_time": "2021-11-17T21:50:36.243Z"
   },
   {
    "duration": 3,
    "start_time": "2021-11-18T06:28:31.440Z"
   },
   {
    "duration": 3,
    "start_time": "2021-11-18T06:29:00.168Z"
   },
   {
    "duration": 3,
    "start_time": "2021-11-18T06:31:27.008Z"
   },
   {
    "duration": 2,
    "start_time": "2021-11-18T06:35:34.288Z"
   },
   {
    "duration": 2,
    "start_time": "2021-11-18T06:38:04.527Z"
   }
  ],
  "colab": {
   "provenance": []
  },
  "kernelspec": {
   "display_name": "Python 3 (ipykernel)",
   "language": "python",
   "name": "python3"
  },
  "language_info": {
   "codemirror_mode": {
    "name": "ipython",
    "version": 3
   },
   "file_extension": ".py",
   "mimetype": "text/x-python",
   "name": "python",
   "nbconvert_exporter": "python",
   "pygments_lexer": "ipython3",
   "version": "3.12.4"
  },
  "toc": {
   "base_numbering": 1,
   "nav_menu": {},
   "number_sections": true,
   "sideBar": true,
   "skip_h1_title": false,
   "title_cell": "Table of Contents",
   "title_sidebar": "Contents",
   "toc_cell": false,
   "toc_position": {},
   "toc_section_display": true,
   "toc_window_display": true
  }
 },
 "nbformat": 4,
 "nbformat_minor": 1
}
